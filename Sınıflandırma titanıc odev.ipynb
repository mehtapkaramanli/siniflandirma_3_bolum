{
 "cells": [
  {
   "cell_type": "code",
   "execution_count": 1,
   "metadata": {},
   "outputs": [
    {
     "data": {
      "text/html": [
       "<div>\n",
       "<style scoped>\n",
       "    .dataframe tbody tr th:only-of-type {\n",
       "        vertical-align: middle;\n",
       "    }\n",
       "\n",
       "    .dataframe tbody tr th {\n",
       "        vertical-align: top;\n",
       "    }\n",
       "\n",
       "    .dataframe thead th {\n",
       "        text-align: right;\n",
       "    }\n",
       "</style>\n",
       "<table border=\"1\" class=\"dataframe\">\n",
       "  <thead>\n",
       "    <tr style=\"text-align: right;\">\n",
       "      <th></th>\n",
       "      <th>PassengerId</th>\n",
       "      <th>Survived</th>\n",
       "      <th>Pclass</th>\n",
       "      <th>Name</th>\n",
       "      <th>Sex</th>\n",
       "      <th>Age</th>\n",
       "      <th>SibSp</th>\n",
       "      <th>Parch</th>\n",
       "      <th>Ticket</th>\n",
       "      <th>Fare</th>\n",
       "      <th>Cabin</th>\n",
       "      <th>Embarked</th>\n",
       "    </tr>\n",
       "  </thead>\n",
       "  <tbody>\n",
       "    <tr>\n",
       "      <th>0</th>\n",
       "      <td>1</td>\n",
       "      <td>0</td>\n",
       "      <td>3</td>\n",
       "      <td>Braund, Mr. Owen Harris</td>\n",
       "      <td>male</td>\n",
       "      <td>22.0</td>\n",
       "      <td>1</td>\n",
       "      <td>0</td>\n",
       "      <td>A/5 21171</td>\n",
       "      <td>7.2500</td>\n",
       "      <td>NaN</td>\n",
       "      <td>S</td>\n",
       "    </tr>\n",
       "    <tr>\n",
       "      <th>1</th>\n",
       "      <td>2</td>\n",
       "      <td>1</td>\n",
       "      <td>1</td>\n",
       "      <td>Cumings, Mrs. John Bradley (Florence Briggs Th...</td>\n",
       "      <td>female</td>\n",
       "      <td>38.0</td>\n",
       "      <td>1</td>\n",
       "      <td>0</td>\n",
       "      <td>PC 17599</td>\n",
       "      <td>71.2833</td>\n",
       "      <td>C85</td>\n",
       "      <td>C</td>\n",
       "    </tr>\n",
       "    <tr>\n",
       "      <th>2</th>\n",
       "      <td>3</td>\n",
       "      <td>1</td>\n",
       "      <td>3</td>\n",
       "      <td>Heikkinen, Miss. Laina</td>\n",
       "      <td>female</td>\n",
       "      <td>26.0</td>\n",
       "      <td>0</td>\n",
       "      <td>0</td>\n",
       "      <td>STON/O2. 3101282</td>\n",
       "      <td>7.9250</td>\n",
       "      <td>NaN</td>\n",
       "      <td>S</td>\n",
       "    </tr>\n",
       "    <tr>\n",
       "      <th>3</th>\n",
       "      <td>4</td>\n",
       "      <td>1</td>\n",
       "      <td>1</td>\n",
       "      <td>Futrelle, Mrs. Jacques Heath (Lily May Peel)</td>\n",
       "      <td>female</td>\n",
       "      <td>35.0</td>\n",
       "      <td>1</td>\n",
       "      <td>0</td>\n",
       "      <td>113803</td>\n",
       "      <td>53.1000</td>\n",
       "      <td>C123</td>\n",
       "      <td>S</td>\n",
       "    </tr>\n",
       "    <tr>\n",
       "      <th>4</th>\n",
       "      <td>5</td>\n",
       "      <td>0</td>\n",
       "      <td>3</td>\n",
       "      <td>Allen, Mr. William Henry</td>\n",
       "      <td>male</td>\n",
       "      <td>35.0</td>\n",
       "      <td>0</td>\n",
       "      <td>0</td>\n",
       "      <td>373450</td>\n",
       "      <td>8.0500</td>\n",
       "      <td>NaN</td>\n",
       "      <td>S</td>\n",
       "    </tr>\n",
       "    <tr>\n",
       "      <th>5</th>\n",
       "      <td>6</td>\n",
       "      <td>0</td>\n",
       "      <td>3</td>\n",
       "      <td>Moran, Mr. James</td>\n",
       "      <td>male</td>\n",
       "      <td>NaN</td>\n",
       "      <td>0</td>\n",
       "      <td>0</td>\n",
       "      <td>330877</td>\n",
       "      <td>8.4583</td>\n",
       "      <td>NaN</td>\n",
       "      <td>Q</td>\n",
       "    </tr>\n",
       "    <tr>\n",
       "      <th>6</th>\n",
       "      <td>7</td>\n",
       "      <td>0</td>\n",
       "      <td>1</td>\n",
       "      <td>McCarthy, Mr. Timothy J</td>\n",
       "      <td>male</td>\n",
       "      <td>54.0</td>\n",
       "      <td>0</td>\n",
       "      <td>0</td>\n",
       "      <td>17463</td>\n",
       "      <td>51.8625</td>\n",
       "      <td>E46</td>\n",
       "      <td>S</td>\n",
       "    </tr>\n",
       "    <tr>\n",
       "      <th>7</th>\n",
       "      <td>8</td>\n",
       "      <td>0</td>\n",
       "      <td>3</td>\n",
       "      <td>Palsson, Master. Gosta Leonard</td>\n",
       "      <td>male</td>\n",
       "      <td>2.0</td>\n",
       "      <td>3</td>\n",
       "      <td>1</td>\n",
       "      <td>349909</td>\n",
       "      <td>21.0750</td>\n",
       "      <td>NaN</td>\n",
       "      <td>S</td>\n",
       "    </tr>\n",
       "    <tr>\n",
       "      <th>8</th>\n",
       "      <td>9</td>\n",
       "      <td>1</td>\n",
       "      <td>3</td>\n",
       "      <td>Johnson, Mrs. Oscar W (Elisabeth Vilhelmina Berg)</td>\n",
       "      <td>female</td>\n",
       "      <td>27.0</td>\n",
       "      <td>0</td>\n",
       "      <td>2</td>\n",
       "      <td>347742</td>\n",
       "      <td>11.1333</td>\n",
       "      <td>NaN</td>\n",
       "      <td>S</td>\n",
       "    </tr>\n",
       "    <tr>\n",
       "      <th>9</th>\n",
       "      <td>10</td>\n",
       "      <td>1</td>\n",
       "      <td>2</td>\n",
       "      <td>Nasser, Mrs. Nicholas (Adele Achem)</td>\n",
       "      <td>female</td>\n",
       "      <td>14.0</td>\n",
       "      <td>1</td>\n",
       "      <td>0</td>\n",
       "      <td>237736</td>\n",
       "      <td>30.0708</td>\n",
       "      <td>NaN</td>\n",
       "      <td>C</td>\n",
       "    </tr>\n",
       "  </tbody>\n",
       "</table>\n",
       "</div>"
      ],
      "text/plain": [
       "   PassengerId  Survived  Pclass  \\\n",
       "0            1         0       3   \n",
       "1            2         1       1   \n",
       "2            3         1       3   \n",
       "3            4         1       1   \n",
       "4            5         0       3   \n",
       "5            6         0       3   \n",
       "6            7         0       1   \n",
       "7            8         0       3   \n",
       "8            9         1       3   \n",
       "9           10         1       2   \n",
       "\n",
       "                                                Name     Sex   Age  SibSp  \\\n",
       "0                            Braund, Mr. Owen Harris    male  22.0      1   \n",
       "1  Cumings, Mrs. John Bradley (Florence Briggs Th...  female  38.0      1   \n",
       "2                             Heikkinen, Miss. Laina  female  26.0      0   \n",
       "3       Futrelle, Mrs. Jacques Heath (Lily May Peel)  female  35.0      1   \n",
       "4                           Allen, Mr. William Henry    male  35.0      0   \n",
       "5                                   Moran, Mr. James    male   NaN      0   \n",
       "6                            McCarthy, Mr. Timothy J    male  54.0      0   \n",
       "7                     Palsson, Master. Gosta Leonard    male   2.0      3   \n",
       "8  Johnson, Mrs. Oscar W (Elisabeth Vilhelmina Berg)  female  27.0      0   \n",
       "9                Nasser, Mrs. Nicholas (Adele Achem)  female  14.0      1   \n",
       "\n",
       "   Parch            Ticket     Fare Cabin Embarked  \n",
       "0      0         A/5 21171   7.2500   NaN        S  \n",
       "1      0          PC 17599  71.2833   C85        C  \n",
       "2      0  STON/O2. 3101282   7.9250   NaN        S  \n",
       "3      0            113803  53.1000  C123        S  \n",
       "4      0            373450   8.0500   NaN        S  \n",
       "5      0            330877   8.4583   NaN        Q  \n",
       "6      0             17463  51.8625   E46        S  \n",
       "7      1            349909  21.0750   NaN        S  \n",
       "8      2            347742  11.1333   NaN        S  \n",
       "9      0            237736  30.0708   NaN        C  "
      ]
     },
     "execution_count": 1,
     "metadata": {},
     "output_type": "execute_result"
    }
   ],
   "source": [
    "import numpy as np\n",
    "import pandas as pd\n",
    "#import matplotlib.pyplot as plt\n",
    "import plotly.plotly as py\n",
    "import scipy.stats as stats\n",
    "import statsmodels.api as sm\n",
    "from datetime import datetime\n",
    "import matplotlib.pyplot as plot\n",
    "\n",
    "import warnings\n",
    "warnings.filterwarnings('ignore')\n",
    "titanic = pd.read_csv('train_titanic.csv')\n",
    "titanic.head(10)"
   ]
  },
  {
   "cell_type": "code",
   "execution_count": 2,
   "metadata": {},
   "outputs": [
    {
     "name": "stdout",
     "output_type": "stream",
     "text": [
      "<class 'pandas.core.frame.DataFrame'>\n",
      "RangeIndex: 891 entries, 0 to 890\n",
      "Data columns (total 12 columns):\n",
      "PassengerId    891 non-null int64\n",
      "Survived       891 non-null int64\n",
      "Pclass         891 non-null int64\n",
      "Name           891 non-null object\n",
      "Sex            891 non-null object\n",
      "Age            714 non-null float64\n",
      "SibSp          891 non-null int64\n",
      "Parch          891 non-null int64\n",
      "Ticket         891 non-null object\n",
      "Fare           891 non-null float64\n",
      "Cabin          204 non-null object\n",
      "Embarked       889 non-null object\n",
      "dtypes: float64(2), int64(5), object(5)\n",
      "memory usage: 83.6+ KB\n"
     ]
    }
   ],
   "source": [
    "titanic.info()"
   ]
  },
  {
   "cell_type": "code",
   "execution_count": 3,
   "metadata": {},
   "outputs": [
    {
     "data": {
      "text/plain": [
       "PassengerId      0\n",
       "Survived         0\n",
       "Pclass           0\n",
       "Name             0\n",
       "Sex              0\n",
       "Age            177\n",
       "SibSp            0\n",
       "Parch            0\n",
       "Ticket           0\n",
       "Fare             0\n",
       "Cabin          687\n",
       "Embarked         2\n",
       "dtype: int64"
      ]
     },
     "execution_count": 3,
     "metadata": {},
     "output_type": "execute_result"
    }
   ],
   "source": [
    "titanic.isnull().sum()"
   ]
  },
  {
   "cell_type": "code",
   "execution_count": 4,
   "metadata": {},
   "outputs": [],
   "source": [
    "titanic_data=titanic[['Survived','Pclass','Sex','Age','SibSp','Parch','Fare']]"
   ]
  },
  {
   "cell_type": "code",
   "execution_count": 5,
   "metadata": {},
   "outputs": [],
   "source": [
    "titanic_data=titanic_data.dropna()"
   ]
  },
  {
   "cell_type": "code",
   "execution_count": 6,
   "metadata": {},
   "outputs": [
    {
     "data": {
      "text/html": [
       "<div>\n",
       "<style scoped>\n",
       "    .dataframe tbody tr th:only-of-type {\n",
       "        vertical-align: middle;\n",
       "    }\n",
       "\n",
       "    .dataframe tbody tr th {\n",
       "        vertical-align: top;\n",
       "    }\n",
       "\n",
       "    .dataframe thead th {\n",
       "        text-align: right;\n",
       "    }\n",
       "</style>\n",
       "<table border=\"1\" class=\"dataframe\">\n",
       "  <thead>\n",
       "    <tr style=\"text-align: right;\">\n",
       "      <th></th>\n",
       "      <th>Survived</th>\n",
       "      <th>Pclass</th>\n",
       "      <th>Sex</th>\n",
       "      <th>Age</th>\n",
       "      <th>SibSp</th>\n",
       "      <th>Parch</th>\n",
       "      <th>Fare</th>\n",
       "    </tr>\n",
       "  </thead>\n",
       "  <tbody>\n",
       "    <tr>\n",
       "      <th>0</th>\n",
       "      <td>0</td>\n",
       "      <td>3</td>\n",
       "      <td>male</td>\n",
       "      <td>22.0</td>\n",
       "      <td>1</td>\n",
       "      <td>0</td>\n",
       "      <td>7.2500</td>\n",
       "    </tr>\n",
       "    <tr>\n",
       "      <th>1</th>\n",
       "      <td>1</td>\n",
       "      <td>1</td>\n",
       "      <td>female</td>\n",
       "      <td>38.0</td>\n",
       "      <td>1</td>\n",
       "      <td>0</td>\n",
       "      <td>71.2833</td>\n",
       "    </tr>\n",
       "    <tr>\n",
       "      <th>2</th>\n",
       "      <td>1</td>\n",
       "      <td>3</td>\n",
       "      <td>female</td>\n",
       "      <td>26.0</td>\n",
       "      <td>0</td>\n",
       "      <td>0</td>\n",
       "      <td>7.9250</td>\n",
       "    </tr>\n",
       "    <tr>\n",
       "      <th>3</th>\n",
       "      <td>1</td>\n",
       "      <td>1</td>\n",
       "      <td>female</td>\n",
       "      <td>35.0</td>\n",
       "      <td>1</td>\n",
       "      <td>0</td>\n",
       "      <td>53.1000</td>\n",
       "    </tr>\n",
       "    <tr>\n",
       "      <th>4</th>\n",
       "      <td>0</td>\n",
       "      <td>3</td>\n",
       "      <td>male</td>\n",
       "      <td>35.0</td>\n",
       "      <td>0</td>\n",
       "      <td>0</td>\n",
       "      <td>8.0500</td>\n",
       "    </tr>\n",
       "    <tr>\n",
       "      <th>6</th>\n",
       "      <td>0</td>\n",
       "      <td>1</td>\n",
       "      <td>male</td>\n",
       "      <td>54.0</td>\n",
       "      <td>0</td>\n",
       "      <td>0</td>\n",
       "      <td>51.8625</td>\n",
       "    </tr>\n",
       "    <tr>\n",
       "      <th>7</th>\n",
       "      <td>0</td>\n",
       "      <td>3</td>\n",
       "      <td>male</td>\n",
       "      <td>2.0</td>\n",
       "      <td>3</td>\n",
       "      <td>1</td>\n",
       "      <td>21.0750</td>\n",
       "    </tr>\n",
       "    <tr>\n",
       "      <th>8</th>\n",
       "      <td>1</td>\n",
       "      <td>3</td>\n",
       "      <td>female</td>\n",
       "      <td>27.0</td>\n",
       "      <td>0</td>\n",
       "      <td>2</td>\n",
       "      <td>11.1333</td>\n",
       "    </tr>\n",
       "    <tr>\n",
       "      <th>9</th>\n",
       "      <td>1</td>\n",
       "      <td>2</td>\n",
       "      <td>female</td>\n",
       "      <td>14.0</td>\n",
       "      <td>1</td>\n",
       "      <td>0</td>\n",
       "      <td>30.0708</td>\n",
       "    </tr>\n",
       "    <tr>\n",
       "      <th>10</th>\n",
       "      <td>1</td>\n",
       "      <td>3</td>\n",
       "      <td>female</td>\n",
       "      <td>4.0</td>\n",
       "      <td>1</td>\n",
       "      <td>1</td>\n",
       "      <td>16.7000</td>\n",
       "    </tr>\n",
       "  </tbody>\n",
       "</table>\n",
       "</div>"
      ],
      "text/plain": [
       "    Survived  Pclass     Sex   Age  SibSp  Parch     Fare\n",
       "0          0       3    male  22.0      1      0   7.2500\n",
       "1          1       1  female  38.0      1      0  71.2833\n",
       "2          1       3  female  26.0      0      0   7.9250\n",
       "3          1       1  female  35.0      1      0  53.1000\n",
       "4          0       3    male  35.0      0      0   8.0500\n",
       "6          0       1    male  54.0      0      0  51.8625\n",
       "7          0       3    male   2.0      3      1  21.0750\n",
       "8          1       3  female  27.0      0      2  11.1333\n",
       "9          1       2  female  14.0      1      0  30.0708\n",
       "10         1       3  female   4.0      1      1  16.7000"
      ]
     },
     "execution_count": 6,
     "metadata": {},
     "output_type": "execute_result"
    }
   ],
   "source": [
    "titanic_data.head(10)"
   ]
  },
  {
   "cell_type": "code",
   "execution_count": null,
   "metadata": {},
   "outputs": [],
   "source": []
  },
  {
   "cell_type": "code",
   "execution_count": 7,
   "metadata": {},
   "outputs": [],
   "source": [
    "target = titanic_data['Survived']\n",
    "titanic_data=titanic_data[['Pclass','Sex','Age','SibSp','Parch','Fare']]"
   ]
  },
  {
   "cell_type": "code",
   "execution_count": 8,
   "metadata": {},
   "outputs": [],
   "source": [
    "for i in range(len(titanic_data)):\n",
    "    if (titanic_data['Sex'].iloc[i]=='male'):\n",
    "        titanic_data['Sex'].iloc[i]=0\n",
    "    elif(titanic_data['Sex'].iloc[i]=='female'):\n",
    "        titanic_data['Sex'].iloc[i]=1"
   ]
  },
  {
   "cell_type": "code",
   "execution_count": 9,
   "metadata": {},
   "outputs": [],
   "source": [
    "titan=titanic_data"
   ]
  },
  {
   "cell_type": "code",
   "execution_count": 10,
   "metadata": {},
   "outputs": [],
   "source": [
    "from sklearn.linear_model import LogisticRegression\n",
    "log_reg = LogisticRegression()"
   ]
  },
  {
   "cell_type": "code",
   "execution_count": 11,
   "metadata": {},
   "outputs": [],
   "source": [
    "from sklearn.model_selection import train_test_split\n",
    "X_eğitim, X_test, y_eğitim, y_test =  train_test_split(titanic_data, target, test_size=0.20, random_state=111)"
   ]
  },
  {
   "cell_type": "code",
   "execution_count": 12,
   "metadata": {},
   "outputs": [
    {
     "data": {
      "text/plain": [
       "LogisticRegression(C=1.0, class_weight=None, dual=False, fit_intercept=True,\n",
       "                   intercept_scaling=1, l1_ratio=None, max_iter=100,\n",
       "                   multi_class='warn', n_jobs=None, penalty='l2',\n",
       "                   random_state=None, solver='warn', tol=0.0001, verbose=0,\n",
       "                   warm_start=False)"
      ]
     },
     "execution_count": 12,
     "metadata": {},
     "output_type": "execute_result"
    }
   ],
   "source": [
    "log_reg.fit(X_eğitim, y_eğitim)"
   ]
  },
  {
   "cell_type": "code",
   "execution_count": 13,
   "metadata": {},
   "outputs": [
    {
     "name": "stdout",
     "output_type": "stream",
     "text": [
      "One-vs-rest\n",
      "--------------------\n",
      "Modelin eğitim verisindeki doğruluğu : 0.80\n",
      "Modelin test verisindeki doğruluğu   : 0.76\n"
     ]
    }
   ],
   "source": [
    "egitim_dogruluk = log_reg.score(X_eğitim, y_eğitim)\n",
    "test_dogruluk = log_reg.score(X_test, y_test)\n",
    "print('One-vs-rest', '-'*20, \n",
    "      'Modelin eğitim verisindeki doğruluğu : {:.2f}'.format(egitim_dogruluk), \n",
    "      'Modelin test verisindeki doğruluğu   : {:.2f}'.format(test_dogruluk), sep='\\n')"
   ]
  },
  {
   "cell_type": "code",
   "execution_count": 14,
   "metadata": {},
   "outputs": [
    {
     "name": "stdout",
     "output_type": "stream",
     "text": [
      "Multinomial (Softmax)\n",
      "--------------------\n",
      "Modelin eğitim verisindeki doğruluğu : 0.80\n",
      "Modelin test verisindeki doğruluğu   : 0.78\n"
     ]
    }
   ],
   "source": [
    "log_reg_mnm = LogisticRegression(multi_class='multinomial', solver='lbfgs')\n",
    "log_reg_mnm.fit(X_eğitim, y_eğitim)\n",
    "egitim_dogruluk = log_reg_mnm.score(X_eğitim, y_eğitim)\n",
    "test_dogruluk = log_reg_mnm.score(X_test, y_test)\n",
    "print('Multinomial (Softmax)', '-'*20, \n",
    "      'Modelin eğitim verisindeki doğruluğu : {:.2f}'.format(egitim_dogruluk), \n",
    "      'Modelin test verisindeki doğruluğu   : {:.2f}'.format(test_dogruluk), sep='\\n')"
   ]
  },
  {
   "cell_type": "code",
   "execution_count": 15,
   "metadata": {},
   "outputs": [
    {
     "data": {
      "text/html": [
       "<div>\n",
       "<style scoped>\n",
       "    .dataframe tbody tr th:only-of-type {\n",
       "        vertical-align: middle;\n",
       "    }\n",
       "\n",
       "    .dataframe tbody tr th {\n",
       "        vertical-align: top;\n",
       "    }\n",
       "\n",
       "    .dataframe thead th {\n",
       "        text-align: right;\n",
       "    }\n",
       "</style>\n",
       "<table border=\"1\" class=\"dataframe\">\n",
       "  <thead>\n",
       "    <tr style=\"text-align: right;\">\n",
       "      <th></th>\n",
       "      <th>C Değeri</th>\n",
       "      <th>Eğitim Doğruluğu</th>\n",
       "      <th>Test Doğruluğu</th>\n",
       "    </tr>\n",
       "  </thead>\n",
       "  <tbody>\n",
       "    <tr>\n",
       "      <th>0</th>\n",
       "      <td>0.001</td>\n",
       "      <td>0.683012</td>\n",
       "      <td>0.657343</td>\n",
       "    </tr>\n",
       "    <tr>\n",
       "      <th>1</th>\n",
       "      <td>0.010</td>\n",
       "      <td>0.719790</td>\n",
       "      <td>0.727273</td>\n",
       "    </tr>\n",
       "    <tr>\n",
       "      <th>2</th>\n",
       "      <td>0.100</td>\n",
       "      <td>0.800350</td>\n",
       "      <td>0.769231</td>\n",
       "    </tr>\n",
       "    <tr>\n",
       "      <th>3</th>\n",
       "      <td>1.000</td>\n",
       "      <td>0.798599</td>\n",
       "      <td>0.755245</td>\n",
       "    </tr>\n",
       "    <tr>\n",
       "      <th>4</th>\n",
       "      <td>10.000</td>\n",
       "      <td>0.802102</td>\n",
       "      <td>0.776224</td>\n",
       "    </tr>\n",
       "    <tr>\n",
       "      <th>5</th>\n",
       "      <td>100.000</td>\n",
       "      <td>0.803853</td>\n",
       "      <td>0.776224</td>\n",
       "    </tr>\n",
       "    <tr>\n",
       "      <th>6</th>\n",
       "      <td>1000.000</td>\n",
       "      <td>0.803853</td>\n",
       "      <td>0.776224</td>\n",
       "    </tr>\n",
       "  </tbody>\n",
       "</table>\n",
       "</div>"
      ],
      "text/plain": [
       "   C Değeri  Eğitim Doğruluğu  Test Doğruluğu\n",
       "0     0.001          0.683012        0.657343\n",
       "1     0.010          0.719790        0.727273\n",
       "2     0.100          0.800350        0.769231\n",
       "3     1.000          0.798599        0.755245\n",
       "4    10.000          0.802102        0.776224\n",
       "5   100.000          0.803853        0.776224\n",
       "6  1000.000          0.803853        0.776224"
      ]
     },
     "metadata": {},
     "output_type": "display_data"
    }
   ],
   "source": [
    "C_değerleri = [0.001,0.01,0.1,1,10,100, 1000]\n",
    "dogruluk_df = pd.DataFrame(columns = ['C_Değeri','Doğruluk'])\n",
    "\n",
    "dogruluk_değerleri = pd.DataFrame(columns=['C Değeri', 'Eğitim Doğruluğu', 'Test Doğruluğu'])\n",
    "\n",
    "for c in C_değerleri:\n",
    "    \n",
    "    # Apply logistic regression model to training data\n",
    "    lr = LogisticRegression(penalty = 'l2', C = c, random_state = 0)\n",
    "    lr.fit(X_eğitim,y_eğitim)\n",
    "    dogruluk_değerleri = dogruluk_değerleri.append({'C Değeri': c,\n",
    "                                                    'Eğitim Doğruluğu' : lr.score(X_eğitim, y_eğitim),\n",
    "                                                    'Test Doğruluğu': lr.score(X_test, y_test)\n",
    "                                                    }, ignore_index=True)\n",
    "display(dogruluk_değerleri)    "
   ]
  },
  {
   "cell_type": "code",
   "execution_count": 16,
   "metadata": {},
   "outputs": [],
   "source": [
    "#etkili elemanları değiştirirsek;"
   ]
  },
  {
   "cell_type": "code",
   "execution_count": 17,
   "metadata": {},
   "outputs": [],
   "source": [
    "titanic_data=titanic_data[['Pclass','Sex','Age','SibSp','Parch']]"
   ]
  },
  {
   "cell_type": "code",
   "execution_count": 18,
   "metadata": {},
   "outputs": [],
   "source": [
    "from sklearn.linear_model import LogisticRegression\n",
    "log_reg = LogisticRegression()"
   ]
  },
  {
   "cell_type": "code",
   "execution_count": 19,
   "metadata": {},
   "outputs": [],
   "source": [
    "from sklearn.model_selection import train_test_split\n",
    "X_eğitim, X_test, y_eğitim, y_test =  train_test_split(titanic_data, target, test_size=0.20, random_state=111)"
   ]
  },
  {
   "cell_type": "code",
   "execution_count": 20,
   "metadata": {},
   "outputs": [
    {
     "data": {
      "text/plain": [
       "LogisticRegression(C=1.0, class_weight=None, dual=False, fit_intercept=True,\n",
       "                   intercept_scaling=1, l1_ratio=None, max_iter=100,\n",
       "                   multi_class='warn', n_jobs=None, penalty='l2',\n",
       "                   random_state=None, solver='warn', tol=0.0001, verbose=0,\n",
       "                   warm_start=False)"
      ]
     },
     "execution_count": 20,
     "metadata": {},
     "output_type": "execute_result"
    }
   ],
   "source": [
    "log_reg.fit(X_eğitim, y_eğitim)"
   ]
  },
  {
   "cell_type": "code",
   "execution_count": 21,
   "metadata": {},
   "outputs": [
    {
     "name": "stdout",
     "output_type": "stream",
     "text": [
      "One-vs-rest\n",
      "--------------------\n",
      "Modelin eğitim verisindeki doğruluğu : 0.80\n",
      "Modelin test verisindeki doğruluğu   : 0.75\n"
     ]
    }
   ],
   "source": [
    "egitim_dogruluk = log_reg.score(X_eğitim, y_eğitim)\n",
    "test_dogruluk = log_reg.score(X_test, y_test)\n",
    "print('One-vs-rest', '-'*20, \n",
    "      'Modelin eğitim verisindeki doğruluğu : {:.2f}'.format(egitim_dogruluk), \n",
    "      'Modelin test verisindeki doğruluğu   : {:.2f}'.format(test_dogruluk), sep='\\n')"
   ]
  },
  {
   "cell_type": "code",
   "execution_count": 22,
   "metadata": {},
   "outputs": [
    {
     "name": "stdout",
     "output_type": "stream",
     "text": [
      "Multinomial (Softmax)\n",
      "--------------------\n",
      "Modelin eğitim verisindeki doğruluğu : 0.81\n",
      "Modelin test verisindeki doğruluğu   : 0.79\n"
     ]
    }
   ],
   "source": [
    "log_reg_mnm = LogisticRegression(multi_class='multinomial', solver='lbfgs')\n",
    "log_reg_mnm.fit(X_eğitim, y_eğitim)\n",
    "egitim_dogruluk = log_reg_mnm.score(X_eğitim, y_eğitim)\n",
    "test_dogruluk = log_reg_mnm.score(X_test, y_test)\n",
    "print('Multinomial (Softmax)', '-'*20, \n",
    "      'Modelin eğitim verisindeki doğruluğu : {:.2f}'.format(egitim_dogruluk), \n",
    "      'Modelin test verisindeki doğruluğu   : {:.2f}'.format(test_dogruluk), sep='\\n')"
   ]
  },
  {
   "cell_type": "code",
   "execution_count": 23,
   "metadata": {},
   "outputs": [
    {
     "data": {
      "text/html": [
       "<div>\n",
       "<style scoped>\n",
       "    .dataframe tbody tr th:only-of-type {\n",
       "        vertical-align: middle;\n",
       "    }\n",
       "\n",
       "    .dataframe tbody tr th {\n",
       "        vertical-align: top;\n",
       "    }\n",
       "\n",
       "    .dataframe thead th {\n",
       "        text-align: right;\n",
       "    }\n",
       "</style>\n",
       "<table border=\"1\" class=\"dataframe\">\n",
       "  <thead>\n",
       "    <tr style=\"text-align: right;\">\n",
       "      <th></th>\n",
       "      <th>C Değeri</th>\n",
       "      <th>Eğitim Doğruluğu</th>\n",
       "      <th>Test Doğruluğu</th>\n",
       "    </tr>\n",
       "  </thead>\n",
       "  <tbody>\n",
       "    <tr>\n",
       "      <th>0</th>\n",
       "      <td>0.001</td>\n",
       "      <td>0.586690</td>\n",
       "      <td>0.615385</td>\n",
       "    </tr>\n",
       "    <tr>\n",
       "      <th>1</th>\n",
       "      <td>0.010</td>\n",
       "      <td>0.733800</td>\n",
       "      <td>0.769231</td>\n",
       "    </tr>\n",
       "    <tr>\n",
       "      <th>2</th>\n",
       "      <td>0.100</td>\n",
       "      <td>0.789842</td>\n",
       "      <td>0.776224</td>\n",
       "    </tr>\n",
       "    <tr>\n",
       "      <th>3</th>\n",
       "      <td>1.000</td>\n",
       "      <td>0.798599</td>\n",
       "      <td>0.748252</td>\n",
       "    </tr>\n",
       "    <tr>\n",
       "      <th>4</th>\n",
       "      <td>10.000</td>\n",
       "      <td>0.812609</td>\n",
       "      <td>0.783217</td>\n",
       "    </tr>\n",
       "    <tr>\n",
       "      <th>5</th>\n",
       "      <td>100.000</td>\n",
       "      <td>0.810858</td>\n",
       "      <td>0.783217</td>\n",
       "    </tr>\n",
       "    <tr>\n",
       "      <th>6</th>\n",
       "      <td>1000.000</td>\n",
       "      <td>0.810858</td>\n",
       "      <td>0.783217</td>\n",
       "    </tr>\n",
       "  </tbody>\n",
       "</table>\n",
       "</div>"
      ],
      "text/plain": [
       "   C Değeri  Eğitim Doğruluğu  Test Doğruluğu\n",
       "0     0.001          0.586690        0.615385\n",
       "1     0.010          0.733800        0.769231\n",
       "2     0.100          0.789842        0.776224\n",
       "3     1.000          0.798599        0.748252\n",
       "4    10.000          0.812609        0.783217\n",
       "5   100.000          0.810858        0.783217\n",
       "6  1000.000          0.810858        0.783217"
      ]
     },
     "metadata": {},
     "output_type": "display_data"
    }
   ],
   "source": [
    "C_değerleri = [0.001,0.01,0.1,1,10,100, 1000]\n",
    "dogruluk_df = pd.DataFrame(columns = ['C_Değeri','Doğruluk'])\n",
    "\n",
    "dogruluk_değerleri = pd.DataFrame(columns=['C Değeri', 'Eğitim Doğruluğu', 'Test Doğruluğu'])\n",
    "\n",
    "for c in C_değerleri:\n",
    "    \n",
    "    # Apply logistic regression model to training data\n",
    "    lr = LogisticRegression(penalty = 'l2', C = c, random_state = 0)\n",
    "    lr.fit(X_eğitim,y_eğitim)\n",
    "    dogruluk_değerleri = dogruluk_değerleri.append({'C Değeri': c,\n",
    "                                                    'Eğitim Doğruluğu' : lr.score(X_eğitim, y_eğitim),\n",
    "                                                    'Test Doğruluğu': lr.score(X_test, y_test)\n",
    "                                                    }, ignore_index=True)\n",
    "display(dogruluk_değerleri)    "
   ]
  },
  {
   "cell_type": "code",
   "execution_count": 24,
   "metadata": {},
   "outputs": [],
   "source": [
    "#iki sutünü birleştiriyorum,tek olarak sokulacak modele"
   ]
  },
  {
   "cell_type": "code",
   "execution_count": 25,
   "metadata": {},
   "outputs": [],
   "source": [
    "titanic_data['sibparch']=titanic_data['Parch']"
   ]
  },
  {
   "cell_type": "code",
   "execution_count": 26,
   "metadata": {},
   "outputs": [],
   "source": [
    "for i in range(len(titanic_data)):\n",
    "    titanic_data['sibparch'].iloc[i]==titanic_data['SibSp'].iloc[i]+titanic_data['Parch'].iloc[i]\n",
    "        "
   ]
  },
  {
   "cell_type": "code",
   "execution_count": 27,
   "metadata": {},
   "outputs": [],
   "source": [
    "titanic_data=titanic_data[['Pclass','Sex','Age','sibparch']]"
   ]
  },
  {
   "cell_type": "code",
   "execution_count": 28,
   "metadata": {},
   "outputs": [],
   "source": [
    "from sklearn.linear_model import LogisticRegression\n",
    "log_reg = LogisticRegression()"
   ]
  },
  {
   "cell_type": "code",
   "execution_count": 29,
   "metadata": {},
   "outputs": [],
   "source": [
    "from sklearn.model_selection import train_test_split\n",
    "X_eğitim, X_test, y_eğitim, y_test =  train_test_split(titanic_data, target, test_size=0.20, random_state=111)"
   ]
  },
  {
   "cell_type": "code",
   "execution_count": 30,
   "metadata": {},
   "outputs": [
    {
     "data": {
      "text/plain": [
       "LogisticRegression(C=1.0, class_weight=None, dual=False, fit_intercept=True,\n",
       "                   intercept_scaling=1, l1_ratio=None, max_iter=100,\n",
       "                   multi_class='warn', n_jobs=None, penalty='l2',\n",
       "                   random_state=None, solver='warn', tol=0.0001, verbose=0,\n",
       "                   warm_start=False)"
      ]
     },
     "execution_count": 30,
     "metadata": {},
     "output_type": "execute_result"
    }
   ],
   "source": [
    "log_reg.fit(X_eğitim, y_eğitim)"
   ]
  },
  {
   "cell_type": "code",
   "execution_count": 31,
   "metadata": {},
   "outputs": [
    {
     "name": "stdout",
     "output_type": "stream",
     "text": [
      "One-vs-rest\n",
      "--------------------\n",
      "Modelin eğitim verisindeki doğruluğu : 0.80\n",
      "Modelin test verisindeki doğruluğu   : 0.78\n"
     ]
    }
   ],
   "source": [
    "egitim_dogruluk = log_reg.score(X_eğitim, y_eğitim)\n",
    "test_dogruluk = log_reg.score(X_test, y_test)\n",
    "print('One-vs-rest', '-'*20, \n",
    "      'Modelin eğitim verisindeki doğruluğu : {:.2f}'.format(egitim_dogruluk), \n",
    "      'Modelin test verisindeki doğruluğu   : {:.2f}'.format(test_dogruluk), sep='\\n')"
   ]
  },
  {
   "cell_type": "code",
   "execution_count": 32,
   "metadata": {},
   "outputs": [
    {
     "name": "stdout",
     "output_type": "stream",
     "text": [
      "Multinomial (Softmax)\n",
      "--------------------\n",
      "Modelin eğitim verisindeki doğruluğu : 0.80\n",
      "Modelin test verisindeki doğruluğu   : 0.77\n"
     ]
    }
   ],
   "source": [
    "log_reg_mnm = LogisticRegression(multi_class='multinomial', solver='lbfgs')\n",
    "log_reg_mnm.fit(X_eğitim, y_eğitim)\n",
    "egitim_dogruluk = log_reg_mnm.score(X_eğitim, y_eğitim)\n",
    "test_dogruluk = log_reg_mnm.score(X_test, y_test)\n",
    "print('Multinomial (Softmax)', '-'*20, \n",
    "      'Modelin eğitim verisindeki doğruluğu : {:.2f}'.format(egitim_dogruluk), \n",
    "      'Modelin test verisindeki doğruluğu   : {:.2f}'.format(test_dogruluk), sep='\\n')"
   ]
  },
  {
   "cell_type": "code",
   "execution_count": 33,
   "metadata": {},
   "outputs": [
    {
     "data": {
      "text/html": [
       "<div>\n",
       "<style scoped>\n",
       "    .dataframe tbody tr th:only-of-type {\n",
       "        vertical-align: middle;\n",
       "    }\n",
       "\n",
       "    .dataframe tbody tr th {\n",
       "        vertical-align: top;\n",
       "    }\n",
       "\n",
       "    .dataframe thead th {\n",
       "        text-align: right;\n",
       "    }\n",
       "</style>\n",
       "<table border=\"1\" class=\"dataframe\">\n",
       "  <thead>\n",
       "    <tr style=\"text-align: right;\">\n",
       "      <th></th>\n",
       "      <th>C Değeri</th>\n",
       "      <th>Eğitim Doğruluğu</th>\n",
       "      <th>Test Doğruluğu</th>\n",
       "    </tr>\n",
       "  </thead>\n",
       "  <tbody>\n",
       "    <tr>\n",
       "      <th>0</th>\n",
       "      <td>0.001</td>\n",
       "      <td>0.586690</td>\n",
       "      <td>0.615385</td>\n",
       "    </tr>\n",
       "    <tr>\n",
       "      <th>1</th>\n",
       "      <td>0.010</td>\n",
       "      <td>0.733800</td>\n",
       "      <td>0.762238</td>\n",
       "    </tr>\n",
       "    <tr>\n",
       "      <th>2</th>\n",
       "      <td>0.100</td>\n",
       "      <td>0.791594</td>\n",
       "      <td>0.776224</td>\n",
       "    </tr>\n",
       "    <tr>\n",
       "      <th>3</th>\n",
       "      <td>1.000</td>\n",
       "      <td>0.800350</td>\n",
       "      <td>0.776224</td>\n",
       "    </tr>\n",
       "    <tr>\n",
       "      <th>4</th>\n",
       "      <td>10.000</td>\n",
       "      <td>0.803853</td>\n",
       "      <td>0.762238</td>\n",
       "    </tr>\n",
       "    <tr>\n",
       "      <th>5</th>\n",
       "      <td>100.000</td>\n",
       "      <td>0.805604</td>\n",
       "      <td>0.769231</td>\n",
       "    </tr>\n",
       "    <tr>\n",
       "      <th>6</th>\n",
       "      <td>1000.000</td>\n",
       "      <td>0.805604</td>\n",
       "      <td>0.769231</td>\n",
       "    </tr>\n",
       "  </tbody>\n",
       "</table>\n",
       "</div>"
      ],
      "text/plain": [
       "   C Değeri  Eğitim Doğruluğu  Test Doğruluğu\n",
       "0     0.001          0.586690        0.615385\n",
       "1     0.010          0.733800        0.762238\n",
       "2     0.100          0.791594        0.776224\n",
       "3     1.000          0.800350        0.776224\n",
       "4    10.000          0.803853        0.762238\n",
       "5   100.000          0.805604        0.769231\n",
       "6  1000.000          0.805604        0.769231"
      ]
     },
     "metadata": {},
     "output_type": "display_data"
    }
   ],
   "source": [
    "C_değerleri = [0.001,0.01,0.1,1,10,100, 1000]\n",
    "dogruluk_df = pd.DataFrame(columns = ['C_Değeri','Doğruluk'])\n",
    "\n",
    "dogruluk_değerleri = pd.DataFrame(columns=['C Değeri', 'Eğitim Doğruluğu', 'Test Doğruluğu'])\n",
    "\n",
    "for c in C_değerleri:\n",
    "    \n",
    "    # Apply logistic regression model to training data\n",
    "    lr = LogisticRegression(penalty = 'l2', C = c, random_state = 0)\n",
    "    lr.fit(X_eğitim,y_eğitim)\n",
    "    dogruluk_değerleri = dogruluk_değerleri.append({'C Değeri': c,\n",
    "                                                    'Eğitim Doğruluğu' : lr.score(X_eğitim, y_eğitim),\n",
    "                                                    'Test Doğruluğu': lr.score(X_test, y_test)\n",
    "                                                    }, ignore_index=True)\n",
    "display(dogruluk_değerleri)    "
   ]
  },
  {
   "cell_type": "code",
   "execution_count": 34,
   "metadata": {},
   "outputs": [],
   "source": [
    "#yukarıdaki 3 farklı modele gore en uygunu ikinci olan yanı data sında 'Pclass','Sex','Age','SibSp','Parch' sutünları olan , yani değişkenleri barındıran gibi gözüküyor, yöntem olarak ta Multinomial (Softmax) daha iyi gözüküyor "
   ]
  },
  {
   "cell_type": "markdown",
   "metadata": {},
   "source": [
    "## 3. bolum Performans Ölçüm metrikleri ödevi"
   ]
  },
  {
   "cell_type": "code",
   "execution_count": 35,
   "metadata": {},
   "outputs": [],
   "source": [
    "titan=titan[['Pclass','Sex','Age','SibSp','Parch']]"
   ]
  },
  {
   "cell_type": "code",
   "execution_count": 36,
   "metadata": {},
   "outputs": [],
   "source": [
    "X_eğitim, X_test, y_eğitim, y_test =  train_test_split(titan, target, test_size=0.20, random_state=111)\n",
    "yasama_tahmin_modeli = LogisticRegression()\n",
    "yasama_tahmin_modeli.fit(X_eğitim, y_eğitim)\n",
    "\n",
    "tahmin_eğitim = yasama_tahmin_modeli.predict(X_eğitim)\n",
    "tahmin_test = yasama_tahmin_modeli.predict(X_test)\n",
    "tahmin_test_ihtimal = yasama_tahmin_modeli.predict_proba(X_test)[:,1]"
   ]
  },
  {
   "cell_type": "code",
   "execution_count": 37,
   "metadata": {},
   "outputs": [],
   "source": [
    "from sklearn.metrics import confusion_matrix\n",
    "hata_matrisi_eğitim = confusion_matrix(y_eğitim, tahmin_eğitim)\n",
    "hata_matrisi_test = confusion_matrix(y_test, tahmin_test)"
   ]
  },
  {
   "cell_type": "code",
   "execution_count": 38,
   "metadata": {},
   "outputs": [
    {
     "name": "stdout",
     "output_type": "stream",
     "text": [
      "Hata Matrisi (Eğitim verileri)\n",
      "------------------------------\n",
      "[[289  47]\n",
      " [ 68 167]]\n",
      "Hata Matrisi (Test verileri)\n",
      "------------------------------\n",
      "[[70 18]\n",
      " [18 37]]\n"
     ]
    }
   ],
   "source": [
    "print(\"Hata Matrisi (Eğitim verileri)\", \"-\"*30, hata_matrisi_eğitim, sep=\"\\n\")\n",
    "print(\"Hata Matrisi (Test verileri)\", \"-\"*30, hata_matrisi_test, sep=\"\\n\")"
   ]
  },
  {
   "cell_type": "code",
   "execution_count": 39,
   "metadata": {},
   "outputs": [
    {
     "name": "stdout",
     "output_type": "stream",
     "text": [
      "accuracy_score() değeri         :  0.7482517482517482\n",
      "precision_score() değeri        :  0.6727272727272727\n",
      "recall_score() değeri        :  0.6727272727272727\n",
      "Hesaplanan özgünlük değeri   :  0.7954545454545454\n",
      "f1_score() değeri     :  0.6727272727272727\n"
     ]
    }
   ],
   "source": [
    "from sklearn.metrics import accuracy_score\n",
    "from sklearn.metrics import precision_score\n",
    "from sklearn.metrics import recall_score\n",
    "from sklearn.metrics import f1_score\n",
    "\n",
    "TN = hata_matrisi_test[0][0]\n",
    "TP = hata_matrisi_test[1][1]\n",
    "FP = hata_matrisi_test[0][1]\n",
    "FN = hata_matrisi_test[1][0]\n",
    "\n",
    "print(\"accuracy_score() değeri         : \",  accuracy_score(y_test, tahmin_test))\n",
    "print(\"precision_score() değeri        : \",  precision_score(y_test, tahmin_test))\n",
    "print(\"recall_score() değeri        : \",  recall_score(y_test, tahmin_test))\n",
    "print(\"Hesaplanan özgünlük değeri   : \",  (TN)/(TN + FP))\n",
    "print(\"f1_score() değeri     : \",  f1_score(y_test, tahmin_test))"
   ]
  },
  {
   "cell_type": "code",
   "execution_count": 40,
   "metadata": {},
   "outputs": [
    {
     "name": "stdout",
     "output_type": "stream",
     "text": [
      "              precision    recall  f1-score   support\n",
      "\n",
      "           0       0.80      0.80      0.80        88\n",
      "           1       0.67      0.67      0.67        55\n",
      "\n",
      "    accuracy                           0.75       143\n",
      "   macro avg       0.73      0.73      0.73       143\n",
      "weighted avg       0.75      0.75      0.75       143\n",
      "\n",
      "f1_score() değeri        : 0.67\n",
      "recall_score() değeri    : 0.67\n",
      "precision_score() değeri : 0.67\n",
      "\n",
      "\n",
      "Hassasiyet : [0.79545455 0.67272727]\n",
      "Duyarlılık : [0.79545455 0.67272727]\n",
      "F1 Skoru   : [0.79545455 0.67272727]\n"
     ]
    }
   ],
   "source": [
    "from sklearn.metrics import classification_report, precision_recall_fscore_support\n",
    "\n",
    "print(classification_report(y_test,tahmin_test) )\n",
    "\n",
    "print(\"f1_score() değeri        : {:.2f}\".format(f1_score(y_test, tahmin_test)))\n",
    "print(\"recall_score() değeri    : {:.2f}\".format(recall_score(y_test, tahmin_test)))\n",
    "print(\"precision_score() değeri : {:.2f}\".format(precision_score(y_test, tahmin_test)))\n",
    "print('\\n')\n",
    "\n",
    "metrikler =  precision_recall_fscore_support(y_test, tahmin_test)\n",
    "print(\"Hassasiyet :\" , metrikler[0]) \n",
    "print(\"Duyarlılık :\" , metrikler[1]) \n",
    "print(\"F1 Skoru   :\" , metrikler[2]) "
   ]
  },
  {
   "cell_type": "code",
   "execution_count": 41,
   "metadata": {},
   "outputs": [],
   "source": [
    "# C degerlerine göre grafikleri çizdirelim."
   ]
  },
  {
   "cell_type": "code",
   "execution_count": 42,
   "metadata": {},
   "outputs": [
    {
     "data": {
      "image/png": "[encoded data removed]",
      "text/plain": [
       "<Figure size 432x288 with 1 Axes>"
      ]
     },
     "metadata": {
      "needs_background": "light"
     },
     "output_type": "display_data"
    },
    {
     "name": "stdout",
     "output_type": "stream",
     "text": [
      "AUC Değeri :  0.8270661157024793\n"
     ]
    },
    {
     "data": {
      "image/png": "[encoded data removed]",
      "text/plain": [
       "<Figure size 432x288 with 1 Axes>"
      ]
     },
     "metadata": {
      "needs_background": "light"
     },
     "output_type": "display_data"
    },
    {
     "data": {
      "image/png": "[encoded data removed]",
      "text/plain": [
       "<Figure size 432x288 with 1 Axes>"
      ]
     },
     "metadata": {
      "needs_background": "light"
     },
     "output_type": "display_data"
    },
    {
     "name": "stdout",
     "output_type": "stream",
     "text": [
      "AUC Değeri :  0.85\n"
     ]
    },
    {
     "data": {
      "image/png": "[encoded data removed]",
      "text/plain": [
       "<Figure size 432x288 with 1 Axes>"
      ]
     },
     "metadata": {
      "needs_background": "light"
     },
     "output_type": "display_data"
    },
    {
     "data": {
      "image/png": "[encoded data removed]",
      "text/plain": [
       "<Figure size 432x288 with 1 Axes>"
      ]
     },
     "metadata": {
      "needs_background": "light"
     },
     "output_type": "display_data"
    },
    {
     "name": "stdout",
     "output_type": "stream",
     "text": [
      "AUC Değeri :  0.8522727272727273\n"
     ]
    },
    {
     "data": {
      "image/png": "[encoded data removed]",
      "text/plain": [
       "<Figure size 432x288 with 1 Axes>"
      ]
     },
     "metadata": {
      "needs_background": "light"
     },
     "output_type": "display_data"
    }
   ],
   "source": [
    "from sklearn.metrics import roc_curve, roc_auc_score\n",
    "from sklearn.metrics import precision_recall_curve\n",
    "import matplotlib.pyplot as plt\n",
    "\n",
    "C_değerleri = [0.01,1,100]\n",
    "\n",
    "for c in C_değerleri:\n",
    "    # Apply logistic regression model to training data\n",
    "    X_eğitim, X_test, y_eğitim, y_test =  train_test_split(titan, target, test_size=0.20, random_state=111)\n",
    "    lr = LogisticRegression(penalty = 'l2', C = c, random_state = 0)\n",
    "    lr.fit(X_eğitim,y_eğitim)\n",
    "\n",
    "    tahmin_eğitim = lr.predict(X_eğitim)\n",
    "    tahmin_test = lr.predict(X_test)\n",
    "    tahmin_test_ihtimal = lr.predict_proba(X_test)[:,1]\n",
    "\n",
    "    fpr, tpr, thresholds  = roc_curve(y_test, tahmin_test_ihtimal)\n",
    "\n",
    "    # Plot ROC curve\n",
    "    plt.plot([0, 1], [0, 1], 'k--')\n",
    "    plt.plot(fpr, tpr)\n",
    "    plt.xlabel('False Positive Rate')\n",
    "    plt.ylabel('True Positive Rate')\n",
    "    plt.title('ROC Curve')\n",
    "    plt.show()\n",
    "    print('AUC Değeri : ', roc_auc_score(y_test, tahmin_test_ihtimal))\n",
    "    \n",
    "    \n",
    "    hassasiyet, duyarlılık, _ = precision_recall_curve(y_test, tahmin_test_ihtimal)\n",
    "\n",
    "    plt.plot(duyarlılık, hassasiyet)\n",
    "    plt.show()"
   ]
  },
  {
   "cell_type": "markdown",
   "metadata": {},
   "source": [
    "## çapraz dogrulama ödevi"
   ]
  },
  {
   "cell_type": "code",
   "execution_count": 43,
   "metadata": {},
   "outputs": [],
   "source": [
    "from sklearn.model_selection import KFold\n",
    "kf = KFold(n_splits=6, shuffle=True, random_state=1111)\n",
    "Xx=titan\n",
    "X=Xx.copy()\n",
    "yy=target\n",
    "y=yy.copy()\n",
    "X.index=[i for i in range(714)]\n",
    "y.index=[i for i in range(714)]\n"
   ]
  },
  {
   "cell_type": "code",
   "execution_count": 44,
   "metadata": {},
   "outputs": [
    {
     "name": "stdout",
     "output_type": "stream",
     "text": [
      "1.Eğitim Kümesi Boyutu : [  1   3   4   5   6   8   9  10  11  12  13  14  15  17  18  19  20  21\n",
      "  22  23  24  26  27  28  29  30  31  34  35  36  37  39  40  41  42  43\n",
      "  45  46  47  48  49  50  51  52  53  54  55  56  57  58  59  60  61  63\n",
      "  64  67  69  70  71  72  73  74  75  76  77  78  79  80  81  82  83  84\n",
      "  85  87  88  90  91  92  93  96  97  98  99 100 101 102 104 105 106 108\n",
      " 109 110 111 112 113 114 115 116 117 118 120 121 122 123 124 125 126 127\n",
      " 128 130 131 132 135 136 137 138 139 140 141 143 144 146 147 148 149 151\n",
      " 152 153 155 156 157 158 159 160 161 162 163 164 165 166 167 168 169 170\n",
      " 171 172 173 174 175 176 177 178 179 180 181 182 183 184 185 186 187 188\n",
      " 189 190 191 192 195 196 197 198 199 200 201 202 203 204 205 206 207 208\n",
      " 209 210 211 212 213 214 217 218 219 220 221 224 225 226 227 228 230 231\n",
      " 232 233 234 235 236 237 243 244 246 247 248 249 250 251 252 254 255 256\n",
      " 257 258 259 260 261 262 263 264 265 266 267 268 269 270 272 273 274 276\n",
      " 277 278 279 280 281 282 283 284 285 286 287 288 289 290 293 294 295 296\n",
      " 297 298 299 300 301 302 305 307 308 309 310 311 312 313 314 315 317 318\n",
      " 319 320 321 323 325 326 327 328 329 331 332 333 334 335 336 337 339 340\n",
      " 341 343 344 345 346 347 348 349 350 352 354 355 356 357 359 360 363 364\n",
      " 365 366 367 368 369 370 372 373 374 376 377 378 379 382 383 384 386 388\n",
      " 389 390 392 393 395 396 397 398 399 400 401 402 403 404 406 407 409 410\n",
      " 411 412 413 414 415 416 417 418 419 420 421 422 423 424 425 426 429 430\n",
      " 431 432 433 435 436 437 438 439 440 441 443 444 446 447 448 450 451 452\n",
      " 453 454 455 456 457 458 459 461 463 464 465 466 467 468 469 470 471 472\n",
      " 473 474 475 476 478 479 480 481 482 483 484 485 486 487 489 490 491 493\n",
      " 494 495 496 497 498 499 501 502 503 504 505 506 507 509 510 512 513 514\n",
      " 515 516 517 518 519 520 521 522 523 526 528 529 530 532 533 535 536 537\n",
      " 538 539 540 542 543 544 545 546 547 548 550 551 553 554 555 556 557 559\n",
      " 560 562 563 564 565 567 568 570 571 572 574 575 576 577 578 580 581 582\n",
      " 583 585 586 587 588 589 590 592 593 594 595 598 599 600 601 602 603 606\n",
      " 607 608 610 611 612 613 614 615 616 617 618 619 621 622 623 624 625 626\n",
      " 627 628 629 630 631 632 633 634 635 636 639 640 642 643 644 645 646 647\n",
      " 649 653 654 655 657 658 659 661 662 663 664 665 666 667 670 671 672 673\n",
      " 674 675 676 678 679 680 681 682 683 684 685 686 687 688 690 691 692 693\n",
      " 694 695 696 697 698 699 700 701 702 704 705 706 707 708 709 710 711 712\n",
      " 713]\n",
      "1.Test Kümesi Boyutu   : [  0   2   7  16  25  32  33  38  44  62  65  66  68  86  89  94  95 103\n",
      " 107 119 129 133 134 142 145 150 154 193 194 215 216 222 223 229 238 239\n",
      " 240 241 242 245 253 271 275 291 292 303 304 306 316 322 324 330 338 342\n",
      " 351 353 358 361 362 371 375 380 381 385 387 391 394 405 408 427 428 434\n",
      " 442 445 449 460 462 477 488 492 500 508 511 524 525 527 531 534 541 549\n",
      " 552 558 561 566 569 573 579 584 591 596 597 604 605 609 620 637 638 641\n",
      " 648 650 651 652 656 660 668 669 677 689 703]\n",
      "---------------------------\n",
      "2.Eğitim Kümesi Boyutu : [  0   2   3   6   7   8   9  10  11  13  14  15  16  17  18  19  20  21\n",
      "  22  23  25  26  27  28  29  30  31  32  33  36  37  38  40  41  42  43\n",
      "  44  46  47  48  50  51  52  53  54  55  58  59  60  62  63  64  65  66\n",
      "  67  68  69  70  71  72  73  74  75  76  77  79  80  81  83  85  86  87\n",
      "  88  89  90  91  92  94  95  96  97  99 100 101 102 103 104 105 106 107\n",
      " 108 109 110 111 112 113 114 115 116 118 119 122 123 124 125 128 129 130\n",
      " 131 133 134 135 136 137 138 139 140 141 142 143 145 146 147 148 149 150\n",
      " 152 153 154 155 157 158 159 160 161 162 163 164 166 167 168 170 171 172\n",
      " 173 174 175 176 177 178 179 180 181 183 184 185 186 187 188 189 190 191\n",
      " 192 193 194 197 198 199 200 201 202 204 205 206 208 210 211 212 213 215\n",
      " 216 217 218 220 222 223 224 226 228 229 231 232 235 236 237 238 239 240\n",
      " 241 242 243 244 245 247 248 249 250 251 253 254 255 256 257 258 260 261\n",
      " 262 263 264 265 267 268 269 270 271 273 274 275 276 277 278 279 280 282\n",
      " 284 285 286 287 288 289 291 292 293 294 295 296 297 298 299 300 301 302\n",
      " 303 304 305 306 309 310 311 313 315 316 317 318 319 320 321 322 324 325\n",
      " 326 327 328 330 331 332 333 334 335 336 337 338 339 340 341 342 343 344\n",
      " 345 347 349 350 351 353 354 355 356 357 358 359 360 361 362 363 364 367\n",
      " 368 369 370 371 372 373 375 376 378 379 380 381 382 383 384 385 387 389\n",
      " 390 391 392 394 395 396 397 398 399 401 402 403 404 405 406 407 408 409\n",
      " 410 411 412 415 416 417 418 419 420 421 422 423 424 425 426 427 428 429\n",
      " 431 432 433 434 435 436 437 438 439 440 441 442 443 444 445 446 448 449\n",
      " 450 451 453 454 455 456 457 458 459 460 461 462 463 464 466 468 469 470\n",
      " 471 472 473 474 475 476 477 478 479 480 481 482 483 484 485 486 487 488\n",
      " 489 490 492 494 495 496 497 498 500 502 505 506 507 508 509 510 511 515\n",
      " 516 518 519 520 521 522 524 525 527 528 529 530 531 532 533 534 535 536\n",
      " 537 538 539 540 541 542 543 544 545 546 547 548 549 551 552 554 555 556\n",
      " 557 558 560 561 562 563 564 565 566 567 568 569 570 572 573 574 575 576\n",
      " 577 578 579 581 582 583 584 585 586 588 589 590 591 592 593 594 596 597\n",
      " 598 599 600 601 602 604 605 607 608 609 610 611 613 614 615 617 618 619\n",
      " 620 621 622 624 625 626 627 628 629 630 631 632 633 635 636 637 638 640\n",
      " 641 642 643 644 645 646 647 648 649 650 651 652 653 654 655 656 657 658\n",
      " 659 660 662 664 665 666 667 668 669 671 672 674 675 677 678 679 681 682\n",
      " 684 686 688 689 691 692 693 694 695 698 702 703 704 705 706 708 709 710\n",
      " 711]\n",
      "2.Test Kümesi Boyutu   : [  1   4   5  12  24  34  35  39  45  49  56  57  61  78  82  84  93  98\n",
      " 117 120 121 126 127 132 144 151 156 165 169 182 195 196 203 207 209 214\n",
      " 219 221 225 227 230 233 234 246 252 259 266 272 281 283 290 307 308 312\n",
      " 314 323 329 346 348 352 365 366 374 377 386 388 393 400 413 414 430 447\n",
      " 452 465 467 491 493 499 501 503 504 512 513 514 517 523 526 550 553 559\n",
      " 571 580 587 595 603 606 612 616 623 634 639 661 663 670 673 676 680 683\n",
      " 685 687 690 696 697 699 700 701 707 712 713]\n",
      "---------------------------\n",
      "3.Eğitim Kümesi Boyutu : [  0   1   2   3   4   5   6   7   8   9  10  11  12  14  15  16  17  18\n",
      "  19  20  21  22  23  24  25  28  30  31  32  33  34  35  37  38  39  40\n",
      "  42  43  44  45  47  48  49  50  51  53  54  55  56  57  58  59  60  61\n",
      "  62  63  64  65  66  67  68  69  71  72  73  74  75  76  78  79  81  82\n",
      "  84  85  86  87  88  89  91  92  93  94  95  96  98  99 100 101 103 104\n",
      " 105 107 108 111 114 115 116 117 118 119 120 121 122 123 124 126 127 128\n",
      " 129 131 132 133 134 135 136 137 139 140 142 144 145 146 147 148 149 150\n",
      " 151 152 153 154 155 156 157 158 160 161 162 163 164 165 166 167 168 169\n",
      " 170 171 172 174 176 177 178 179 182 183 184 185 186 187 188 189 190 192\n",
      " 193 194 195 196 198 199 201 202 203 204 206 207 208 209 210 211 213 214\n",
      " 215 216 217 218 219 221 222 223 224 225 226 227 228 229 230 232 233 234\n",
      " 238 239 240 241 242 243 245 246 247 248 249 250 252 253 255 256 258 259\n",
      " 260 261 263 264 265 266 267 268 270 271 272 275 277 278 279 280 281 283\n",
      " 287 290 291 292 294 295 296 298 299 300 302 303 304 306 307 308 309 311\n",
      " 312 313 314 315 316 317 318 319 320 321 322 323 324 325 327 329 330 331\n",
      " 332 333 334 335 336 337 338 340 342 344 345 346 347 348 349 351 352 353\n",
      " 355 358 359 360 361 362 363 364 365 366 368 371 372 373 374 375 377 379\n",
      " 380 381 382 384 385 386 387 388 389 390 391 392 393 394 395 396 397 398\n",
      " 399 400 401 404 405 406 407 408 410 412 413 414 415 416 418 419 420 421\n",
      " 422 423 424 425 426 427 428 430 431 432 434 437 439 441 442 443 444 445\n",
      " 447 448 449 450 452 453 454 455 457 459 460 461 462 463 464 465 466 467\n",
      " 469 470 471 472 474 475 476 477 478 480 481 483 484 485 486 487 488 489\n",
      " 490 491 492 493 494 496 497 498 499 500 501 502 503 504 506 507 508 509\n",
      " 510 511 512 513 514 515 516 517 518 519 521 523 524 525 526 527 528 529\n",
      " 530 531 532 533 534 535 537 538 539 540 541 542 543 544 546 547 548 549\n",
      " 550 551 552 553 554 555 556 557 558 559 560 561 562 564 565 566 567 568\n",
      " 569 570 571 572 573 574 576 577 578 579 580 581 582 583 584 585 586 587\n",
      " 589 590 591 593 595 596 597 598 599 601 602 603 604 605 606 607 608 609\n",
      " 610 612 613 614 616 617 618 619 620 621 622 623 625 627 628 629 631 632\n",
      " 633 634 635 637 638 639 640 641 643 645 646 647 648 649 650 651 652 653\n",
      " 654 656 657 658 660 661 662 663 665 666 667 668 669 670 671 672 673 674\n",
      " 675 676 677 678 679 680 682 683 685 686 687 688 689 690 691 692 693 694\n",
      " 695 696 697 698 699 700 701 702 703 704 705 706 707 708 709 710 711 712\n",
      " 713]\n",
      "3.Test Kümesi Boyutu   : [ 13  26  27  29  36  41  46  52  70  77  80  83  90  97 102 106 109 110\n",
      " 112 113 125 130 138 141 143 159 173 175 180 181 191 197 200 205 212 220\n",
      " 231 235 236 237 244 251 254 257 262 269 273 274 276 282 284 285 286 288\n",
      " 289 293 297 301 305 310 326 328 339 341 343 350 354 356 357 367 369 370\n",
      " 376 378 383 402 403 409 411 417 429 433 435 436 438 440 446 451 456 458\n",
      " 468 473 479 482 495 505 520 522 536 545 563 575 588 592 594 600 611 615\n",
      " 624 626 630 636 642 644 655 659 664 681 684]\n",
      "---------------------------\n",
      "4.Eğitim Kümesi Boyutu : [  0   1   2   3   4   5   6   7   8   9  10  11  12  13  14  15  16  17\n",
      "  18  20  21  24  25  26  27  28  29  30  32  33  34  35  36  38  39  40\n",
      "  41  42  44  45  46  49  50  52  53  55  56  57  58  60  61  62  64  65\n",
      "  66  67  68  69  70  71  74  75  76  77  78  80  81  82  83  84  86  87\n",
      "  89  90  91  93  94  95  96  97  98  99 100 101 102 103 104 105 106 107\n",
      " 109 110 112 113 116 117 118 119 120 121 123 124 125 126 127 128 129 130\n",
      " 131 132 133 134 135 137 138 141 142 143 144 145 147 149 150 151 152 153\n",
      " 154 155 156 157 158 159 163 165 167 168 169 170 173 175 176 178 179 180\n",
      " 181 182 183 184 185 187 188 189 190 191 192 193 194 195 196 197 199 200\n",
      " 202 203 204 205 206 207 209 210 212 213 214 215 216 217 218 219 220 221\n",
      " 222 223 225 226 227 228 229 230 231 233 234 235 236 237 238 239 240 241\n",
      " 242 243 244 245 246 247 251 252 253 254 255 257 259 261 262 263 264 265\n",
      " 266 267 268 269 270 271 272 273 274 275 276 279 280 281 282 283 284 285\n",
      " 286 287 288 289 290 291 292 293 294 296 297 298 299 300 301 303 304 305\n",
      " 306 307 308 310 311 312 314 316 317 318 321 322 323 324 325 326 327 328\n",
      " 329 330 331 332 333 336 337 338 339 340 341 342 343 344 345 346 348 349\n",
      " 350 351 352 353 354 355 356 357 358 361 362 363 364 365 366 367 369 370\n",
      " 371 372 373 374 375 376 377 378 379 380 381 383 384 385 386 387 388 389\n",
      " 390 391 392 393 394 395 396 397 400 402 403 404 405 406 407 408 409 410\n",
      " 411 412 413 414 415 416 417 418 419 422 423 424 425 427 428 429 430 431\n",
      " 433 434 435 436 437 438 439 440 442 443 445 446 447 448 449 451 452 454\n",
      " 455 456 458 459 460 461 462 465 466 467 468 469 470 471 473 475 477 478\n",
      " 479 481 482 483 484 485 486 487 488 489 491 492 493 494 495 496 497 498\n",
      " 499 500 501 502 503 504 505 506 507 508 510 511 512 513 514 517 518 519\n",
      " 520 521 522 523 524 525 526 527 529 530 531 532 533 534 536 537 538 540\n",
      " 541 542 544 545 546 547 549 550 552 553 554 556 557 558 559 560 561 562\n",
      " 563 564 565 566 568 569 571 572 573 574 575 579 580 581 582 583 584 585\n",
      " 586 587 588 589 590 591 592 593 594 595 596 597 598 600 601 602 603 604\n",
      " 605 606 607 609 611 612 613 614 615 616 617 618 620 621 623 624 625 626\n",
      " 628 629 630 632 633 634 636 637 638 639 641 642 643 644 645 646 647 648\n",
      " 649 650 651 652 655 656 658 659 660 661 662 663 664 665 668 669 670 671\n",
      " 673 674 676 677 678 680 681 682 683 684 685 686 687 688 689 690 691 692\n",
      " 693 694 695 696 697 699 700 701 703 704 705 706 707 708 709 710 711 712\n",
      " 713]\n",
      "4.Test Kümesi Boyutu   : [ 19  22  23  31  37  43  47  48  51  54  59  63  72  73  79  85  88  92\n",
      " 108 111 114 115 122 136 139 140 146 148 160 161 162 164 166 171 172 174\n",
      " 177 186 198 201 208 211 224 232 248 249 250 256 258 260 277 278 295 302\n",
      " 309 313 315 319 320 334 335 347 359 360 368 382 398 399 401 420 421 426\n",
      " 432 441 444 450 453 457 463 464 472 474 476 480 490 509 515 516 528 535\n",
      " 539 543 548 551 555 567 570 576 577 578 599 608 610 619 622 627 631 635\n",
      " 640 653 654 657 666 667 672 675 679 698 702]\n",
      "---------------------------\n",
      "5.Eğitim Kümesi Boyutu : [  0   1   2   4   5   7   9  12  13  14  15  16  17  18  19  20  21  22\n",
      "  23  24  25  26  27  28  29  30  31  32  33  34  35  36  37  38  39  41\n",
      "  42  43  44  45  46  47  48  49  51  52  54  55  56  57  59  61  62  63\n",
      "  64  65  66  67  68  69  70  72  73  74  76  77  78  79  80  82  83  84\n",
      "  85  86  88  89  90  91  92  93  94  95  97  98  99 101 102 103 105 106\n",
      " 107 108 109 110 111 112 113 114 115 117 119 120 121 122 125 126 127 128\n",
      " 129 130 132 133 134 135 136 138 139 140 141 142 143 144 145 146 148 149\n",
      " 150 151 152 153 154 156 159 160 161 162 164 165 166 167 169 171 172 173\n",
      " 174 175 176 177 179 180 181 182 185 186 187 191 192 193 194 195 196 197\n",
      " 198 200 201 202 203 204 205 206 207 208 209 211 212 213 214 215 216 217\n",
      " 218 219 220 221 222 223 224 225 227 228 229 230 231 232 233 234 235 236\n",
      " 237 238 239 240 241 242 243 244 245 246 248 249 250 251 252 253 254 255\n",
      " 256 257 258 259 260 262 264 265 266 267 269 270 271 272 273 274 275 276\n",
      " 277 278 279 280 281 282 283 284 285 286 288 289 290 291 292 293 295 296\n",
      " 297 301 302 303 304 305 306 307 308 309 310 311 312 313 314 315 316 317\n",
      " 319 320 321 322 323 324 326 328 329 330 333 334 335 337 338 339 341 342\n",
      " 343 344 345 346 347 348 349 350 351 352 353 354 355 356 357 358 359 360\n",
      " 361 362 363 364 365 366 367 368 369 370 371 372 374 375 376 377 378 380\n",
      " 381 382 383 385 386 387 388 389 390 391 392 393 394 396 398 399 400 401\n",
      " 402 403 404 405 408 409 410 411 412 413 414 417 420 421 422 423 424 426\n",
      " 427 428 429 430 432 433 434 435 436 437 438 439 440 441 442 443 444 445\n",
      " 446 447 448 449 450 451 452 453 454 455 456 457 458 459 460 462 463 464\n",
      " 465 467 468 469 470 471 472 473 474 476 477 478 479 480 481 482 485 486\n",
      " 488 489 490 491 492 493 494 495 496 498 499 500 501 503 504 505 507 508\n",
      " 509 510 511 512 513 514 515 516 517 520 522 523 524 525 526 527 528 530\n",
      " 531 533 534 535 536 537 539 541 542 543 544 545 548 549 550 551 552 553\n",
      " 554 555 556 557 558 559 561 563 564 566 567 569 570 571 572 573 575 576\n",
      " 577 578 579 580 581 583 584 585 586 587 588 589 591 592 593 594 595 596\n",
      " 597 599 600 601 603 604 605 606 608 609 610 611 612 614 615 616 619 620\n",
      " 621 622 623 624 626 627 628 630 631 634 635 636 637 638 639 640 641 642\n",
      " 644 647 648 649 650 651 652 653 654 655 656 657 658 659 660 661 663 664\n",
      " 666 667 668 669 670 671 672 673 674 675 676 677 679 680 681 683 684 685\n",
      " 687 688 689 690 691 692 696 697 698 699 700 701 702 703 706 707 709 712\n",
      " 713]\n",
      "5.Test Kümesi Boyutu   : [  3   6   8  10  11  40  50  53  58  60  71  75  81  87  96 100 104 116\n",
      " 118 123 124 131 137 147 155 157 158 163 168 170 178 183 184 188 189 190\n",
      " 199 210 226 247 261 263 268 287 294 298 299 300 318 325 327 331 332 336\n",
      " 340 373 379 384 395 397 406 407 415 416 418 419 425 431 461 466 475 483\n",
      " 484 487 497 502 506 518 519 521 529 532 538 540 546 547 560 562 565 568\n",
      " 574 582 590 598 602 607 613 617 618 625 629 632 633 643 645 646 662 665\n",
      " 678 682 686 693 694 695 704 705 708 710 711]\n",
      "---------------------------\n",
      "6.Eğitim Kümesi Boyutu : [  0   1   2   3   4   5   6   7   8  10  11  12  13  16  19  22  23  24\n",
      "  25  26  27  29  31  32  33  34  35  36  37  38  39  40  41  43  44  45\n",
      "  46  47  48  49  50  51  52  53  54  56  57  58  59  60  61  62  63  65\n",
      "  66  68  70  71  72  73  75  77  78  79  80  81  82  83  84  85  86  87\n",
      "  88  89  90  92  93  94  95  96  97  98 100 102 103 104 106 107 108 109\n",
      " 110 111 112 113 114 115 116 117 118 119 120 121 122 123 124 125 126 127\n",
      " 129 130 131 132 133 134 136 137 138 139 140 141 142 143 144 145 146 147\n",
      " 148 150 151 154 155 156 157 158 159 160 161 162 163 164 165 166 168 169\n",
      " 170 171 172 173 174 175 177 178 180 181 182 183 184 186 188 189 190 191\n",
      " 193 194 195 196 197 198 199 200 201 203 205 207 208 209 210 211 212 214\n",
      " 215 216 219 220 221 222 223 224 225 226 227 229 230 231 232 233 234 235\n",
      " 236 237 238 239 240 241 242 244 245 246 247 248 249 250 251 252 253 254\n",
      " 256 257 258 259 260 261 262 263 266 268 269 271 272 273 274 275 276 277\n",
      " 278 281 282 283 284 285 286 287 288 289 290 291 292 293 294 295 297 298\n",
      " 299 300 301 302 303 304 305 306 307 308 309 310 312 313 314 315 316 318\n",
      " 319 320 322 323 324 325 326 327 328 329 330 331 332 334 335 336 338 339\n",
      " 340 341 342 343 346 347 348 350 351 352 353 354 356 357 358 359 360 361\n",
      " 362 365 366 367 368 369 370 371 373 374 375 376 377 378 379 380 381 382\n",
      " 383 384 385 386 387 388 391 393 394 395 397 398 399 400 401 402 403 405\n",
      " 406 407 408 409 411 413 414 415 416 417 418 419 420 421 425 426 427 428\n",
      " 429 430 431 432 433 434 435 436 438 440 441 442 444 445 446 447 449 450\n",
      " 451 452 453 456 457 458 460 461 462 463 464 465 466 467 468 472 473 474\n",
      " 475 476 477 479 480 482 483 484 487 488 490 491 492 493 495 497 499 500\n",
      " 501 502 503 504 505 506 508 509 511 512 513 514 515 516 517 518 519 520\n",
      " 521 522 523 524 525 526 527 528 529 531 532 534 535 536 538 539 540 541\n",
      " 543 545 546 547 548 549 550 551 552 553 555 558 559 560 561 562 563 565\n",
      " 566 567 568 569 570 571 573 574 575 576 577 578 579 580 582 584 587 588\n",
      " 590 591 592 594 595 596 597 598 599 600 602 603 604 605 606 607 608 609\n",
      " 610 611 612 613 615 616 617 618 619 620 622 623 624 625 626 627 629 630\n",
      " 631 632 633 634 635 636 637 638 639 640 641 642 643 644 645 646 648 650\n",
      " 651 652 653 654 655 656 657 659 660 661 662 663 664 665 666 667 668 669\n",
      " 670 672 673 675 676 677 678 679 680 681 682 683 684 685 686 687 689 690\n",
      " 693 694 695 696 697 698 699 700 701 702 703 704 705 707 708 710 711 712\n",
      " 713]\n",
      "6.Test Kümesi Boyutu   : [  9  14  15  17  18  20  21  28  30  42  55  64  67  69  74  76  91  99\n",
      " 101 105 128 135 149 152 153 167 176 179 185 187 192 202 204 206 213 217\n",
      " 218 228 243 255 264 265 267 270 279 280 296 311 317 321 333 337 344 345\n",
      " 349 355 363 364 372 389 390 392 396 404 410 412 422 423 424 437 439 443\n",
      " 448 454 455 459 469 470 471 478 481 485 486 489 494 496 498 507 510 530\n",
      " 533 537 542 544 554 556 557 564 572 581 583 585 586 589 593 601 614 621\n",
      " 628 647 649 658 671 674 688 691 692 706 709]\n",
      "---------------------------\n"
     ]
    }
   ],
   "source": [
    "parcalar = kf.split(X)\n",
    "for num, (eğitim_index, test_index) in enumerate(parcalar):\n",
    "    print(\"{}.Eğitim Kümesi Boyutu : {}\".format(num+1,eğitim_index))\n",
    "    print(\"{}.Test Kümesi Boyutu   : {}\".format(num+1,test_index))\n",
    "    print('-'*27)\n"
   ]
  },
  {
   "cell_type": "code",
   "execution_count": 45,
   "metadata": {},
   "outputs": [],
   "source": [
    "from sklearn.metrics import mean_squared_error\n",
    "X=titan\n",
    "y=target\n",
    "X.index=[i for i in range(714)]\n",
    "y.index=[i for i in range(714)]\n",
    "X_eğitim=X.copy()\n",
    "X_test=X.copy()\n",
    "y_eğitim=y.copy()\n",
    "y_test=y.copy()"
   ]
  },
  {
   "cell_type": "code",
   "execution_count": 46,
   "metadata": {},
   "outputs": [
    {
     "name": "stdout",
     "output_type": "stream",
     "text": [
      "1.Parça Doğruluk Değeri: 0.790\n",
      "------------------------------\n",
      "2.Parça Doğruluk Değeri: 0.782\n",
      "------------------------------\n",
      "3.Parça Doğruluk Değeri: 0.807\n",
      "------------------------------\n",
      "4.Parça Doğruluk Değeri: 0.748\n",
      "------------------------------\n",
      "5.Parça Doğruluk Değeri: 0.790\n",
      "------------------------------\n",
      "6.Parça Doğruluk Değeri: 0.790\n",
      "------------------------------\n"
     ]
    }
   ],
   "source": [
    "model2 = LogisticRegression()\n",
    "kf = KFold(n_splits=6, shuffle=True, random_state=1111)\n",
    "parcalar = kf.split(X)\n",
    "dogruluk_liste = []\n",
    "for i, (eğitim_index, test_index) in enumerate(parcalar):\n",
    "    X=titan\n",
    "    y=target\n",
    "    X.index=[i for i in range(714)]\n",
    "    y.index=[i for i in range(714)]\n",
    "    X_eğitim=X.copy()\n",
    "    X_test=X.copy()\n",
    "    y_eğitim=y.copy()\n",
    "    y_test=y.copy()\n",
    "    \n",
    "    X_eğitim.drop(test_index,inplace=True)\n",
    "    y_eğitim.drop(test_index,axis=0,inplace=True)\n",
    "    X_test.drop(eğitim_index,axis=0,inplace=True)\n",
    "    y_test.drop(eğitim_index,axis=0,inplace=True)\n",
    "    model2.fit(X_eğitim, y_eğitim)\n",
    "    tahmin = model2.predict(X_test)\n",
    "    dogruluk_degeri = model2.score(X_test, y_test)  \n",
    "    dogruluk_liste.append(dogruluk_degeri)\n",
    "    print(\"{}.Parça Doğruluk Değeri: {:.3f}\".format(i+1, dogruluk_degeri))\n",
    "    print(\"-\"*30)"
   ]
  },
  {
   "cell_type": "code",
   "execution_count": 47,
   "metadata": {},
   "outputs": [
    {
     "name": "stdout",
     "output_type": "stream",
     "text": [
      "Ortalama doğruluk değeri : 0.78\n"
     ]
    }
   ],
   "source": [
    "print(\"Ortalama doğruluk değeri : {:.2f}\".format(np.mean(dogruluk_liste)))"
   ]
  },
  {
   "cell_type": "code",
   "execution_count": 50,
   "metadata": {},
   "outputs": [],
   "source": [
    "from sklearn.model_selection import cross_validate, cross_val_score\n",
    "\n"
   ]
  },
  {
   "cell_type": "code",
   "execution_count": 53,
   "metadata": {},
   "outputs": [
    {
     "data": {
      "text/plain": [
       "{'fit_time': array([0.00299287, 0.00296807, 0.00199032, 0.00301957, 0.00199556,\n",
       "        0.00197911, 0.00199389, 0.00199652, 0.0029664 , 0.00399113]),\n",
       " 'score_time': array([0.        , 0.        , 0.00099635, 0.        , 0.00099492,\n",
       "        0.00099826, 0.00096893, 0.00099277, 0.0010283 , 0.        ]),\n",
       " 'test_score': array([0.79166667, 0.73611111, 0.79166667, 0.88888889, 0.74647887,\n",
       "        0.78873239, 0.77464789, 0.74647887, 0.8028169 , 0.8028169 ]),\n",
       " 'train_score': array([0.80373832, 0.80373832, 0.80529595, 0.79283489, 0.7962675 ,\n",
       "        0.80093313, 0.7962675 , 0.79782271, 0.7962675 , 0.79315708])}"
      ]
     },
     "execution_count": 53,
     "metadata": {},
     "output_type": "execute_result"
    }
   ],
   "source": [
    "lrm = LogisticRegression()\n",
    "cv = cross_validate(estimator=lrm,\n",
    "                     X=X,\n",
    "                     y=y,\n",
    "                     cv=10,\n",
    "                     return_train_score=True,\n",
    "                    )\n",
    "cv"
   ]
  },
  {
   "cell_type": "code",
   "execution_count": 54,
   "metadata": {},
   "outputs": [
    {
     "name": "stdout",
     "output_type": "stream",
     "text": [
      "Test Skorları            : \n",
      "[0.79166667 0.73611111 0.79166667 0.88888889 0.74647887 0.78873239\n",
      " 0.77464789 0.74647887 0.8028169  0.8028169 ]\n",
      "--------------------------------------------------\n",
      "Eğitim Skorları          : \n",
      "[0.80373832 0.80373832 0.80529595 0.79283489 0.7962675  0.80093313\n",
      " 0.7962675  0.79782271 0.7962675  0.79315708]\n"
     ]
    }
   ],
   "source": [
    "print('Test Skorları            : ', cv['test_score'], sep = '\\n')\n",
    "print(\"-\"*50)\n",
    "print('Eğitim Skorları          : ', cv['train_score'], sep = '\\n')"
   ]
  },
  {
   "cell_type": "code",
   "execution_count": 55,
   "metadata": {},
   "outputs": [
    {
     "name": "stdout",
     "output_type": "stream",
     "text": [
      "Test Kümesi   Ortalaması :  0.7870305164319249\n",
      "Eğitim Kümesi Ortalaması :  0.7986322873214051\n"
     ]
    }
   ],
   "source": [
    "print('Test Kümesi   Ortalaması : ', cv['test_score'].mean())\n",
    "print('Eğitim Kümesi Ortalaması : ', cv['train_score'].mean())"
   ]
  },
  {
   "cell_type": "code",
   "execution_count": 59,
   "metadata": {},
   "outputs": [],
   "source": [
    "cv = cross_validate(estimator=lrm, \n",
    "                     X=X,\n",
    "                     y=y,\n",
    "                     cv=10,\n",
    "                     scoring = ['accuracy', 'precision', 'r2'],\n",
    "                     return_train_score=True,\n",
    "                    )"
   ]
  },
  {
   "cell_type": "code",
   "execution_count": 60,
   "metadata": {},
   "outputs": [
    {
     "name": "stdout",
     "output_type": "stream",
     "text": [
      "Test Kümesi Doğruluk Ortalaması     : 0.79\n",
      "Test Kümesi R-kare  Ortalaması      : 0.12\n",
      "Test Kümesi Hassasiyet Ortalaması   : 0.76\n",
      "Eğitim Kümesi Doğruluk Ortalaması   : 0.80\n",
      "Eğitim Kümesi R-kare  Ortalaması    : 0.17\n",
      "Eğitim Kümesi Hassasiyet Ortalaması : 0.78\n"
     ]
    }
   ],
   "source": [
    "print('Test Kümesi Doğruluk Ortalaması     : {:.2f}'.format(cv['test_accuracy'].mean()))\n",
    "print('Test Kümesi R-kare  Ortalaması      : {:.2f}'.format(cv['test_r2'].mean()))\n",
    "print('Test Kümesi Hassasiyet Ortalaması   : {:.2f}'.format(cv['test_precision'].mean()))\n",
    "print('Eğitim Kümesi Doğruluk Ortalaması   : {:.2f}'.format(cv['train_accuracy'].mean()))\n",
    "print('Eğitim Kümesi R-kare  Ortalaması    : {:.2f}'.format(cv['train_r2'].mean()))\n",
    "print('Eğitim Kümesi Hassasiyet Ortalaması : {:.2f}'.format(cv['train_precision'].mean()))"
   ]
  },
  {
   "cell_type": "code",
   "execution_count": 61,
   "metadata": {},
   "outputs": [
    {
     "name": "stdout",
     "output_type": "stream",
     "text": [
      "Model Skorları            : \n",
      "[0.79166667 0.73611111 0.79166667 0.88888889 0.74647887 0.78873239\n",
      " 0.77464789 0.74647887 0.8028169  0.8028169 ]\n"
     ]
    }
   ],
   "source": [
    "cv = cross_val_score(estimator=lrm,\n",
    "                     X=X,\n",
    "                     y=y,\n",
    "                     cv=10                    \n",
    "                    )\n",
    "print('Model Skorları            : ', cv, sep = '\\n')"
   ]
  },
  {
   "cell_type": "code",
   "execution_count": 62,
   "metadata": {},
   "outputs": [
    {
     "name": "stdout",
     "output_type": "stream",
     "text": [
      "[0 1 1 1 0 0 0 1 1 1]\n"
     ]
    }
   ],
   "source": [
    "from sklearn.model_selection import cross_val_predict\n",
    "y_tahmin = cross_val_predict(estimator=lrm, X=X, y=y, cv=10)\n",
    "print(y_tahmin[0:10])"
   ]
  },
  {
   "cell_type": "code",
   "execution_count": 67,
   "metadata": {},
   "outputs": [
    {
     "name": "stdout",
     "output_type": "stream",
     "text": [
      "{'C': 1.0, 'class_weight': None, 'dual': False, 'fit_intercept': True, 'intercept_scaling': 1, 'l1_ratio': None, 'max_iter': 100, 'multi_class': 'warn', 'n_jobs': None, 'penalty': 'l2', 'random_state': None, 'solver': 'warn', 'tol': 0.0001, 'verbose': 0, 'warm_start': False}\n"
     ]
    }
   ],
   "source": [
    "logreg = LogisticRegression()\n",
    "print(logreg.get_params())\n",
    "parametreler = {\"C\": [10 ** x for x in range (-5, 5, 1)],\n",
    "                \"penalty\": ['l1', 'l2']\n",
    "                }\n"
   ]
  },
  {
   "cell_type": "code",
   "execution_count": 68,
   "metadata": {},
   "outputs": [],
   "source": [
    "import warnings\n",
    "warnings.filterwarnings('ignore')"
   ]
  },
  {
   "cell_type": "code",
   "execution_count": 69,
   "metadata": {},
   "outputs": [
    {
     "data": {
      "text/plain": [
       "GridSearchCV(cv=10, error_score='raise-deprecating',\n",
       "             estimator=LogisticRegression(C=1.0, class_weight=None, dual=False,\n",
       "                                          fit_intercept=True,\n",
       "                                          intercept_scaling=1, l1_ratio=None,\n",
       "                                          max_iter=100, multi_class='warn',\n",
       "                                          n_jobs=None, penalty='l2',\n",
       "                                          random_state=None, solver='warn',\n",
       "                                          tol=0.0001, verbose=0,\n",
       "                                          warm_start=False),\n",
       "             iid='warn', n_jobs=None,\n",
       "             param_grid={'C': [1e-05, 0.0001, 0.001, 0.01, 0.1, 1, 10, 100,\n",
       "                               1000, 10000],\n",
       "                         'penalty': ['l1', 'l2']},\n",
       "             pre_dispatch='2*n_jobs', refit=True, return_train_score=False,\n",
       "             scoring=None, verbose=0)"
      ]
     },
     "execution_count": 69,
     "metadata": {},
     "output_type": "execute_result"
    }
   ],
   "source": [
    "from sklearn.model_selection import GridSearchCV\n",
    "grid_cv = GridSearchCV(estimator=logreg,\n",
    "                       param_grid = parametreler,\n",
    "                       cv = 10\n",
    "                      )\n",
    "grid_cv.fit(X, y)"
   ]
  },
  {
   "cell_type": "code",
   "execution_count": 70,
   "metadata": {},
   "outputs": [
    {
     "name": "stdout",
     "output_type": "stream",
     "text": [
      "En iyi parametreler :  {'C': 100, 'penalty': 'l1'}\n",
      "En iyi skor         :  0.7997198879551821\n"
     ]
    }
   ],
   "source": [
    "print(\"En iyi parametreler : \", grid_cv.best_params_)\n",
    "print(\"En iyi skor         : \", grid_cv.best_score_)"
   ]
  },
  {
   "cell_type": "code",
   "execution_count": 71,
   "metadata": {},
   "outputs": [
    {
     "data": {
      "text/html": [
       "<div>\n",
       "<style scoped>\n",
       "    .dataframe tbody tr th:only-of-type {\n",
       "        vertical-align: middle;\n",
       "    }\n",
       "\n",
       "    .dataframe tbody tr th {\n",
       "        vertical-align: top;\n",
       "    }\n",
       "\n",
       "    .dataframe thead th {\n",
       "        text-align: right;\n",
       "    }\n",
       "</style>\n",
       "<table border=\"1\" class=\"dataframe\">\n",
       "  <thead>\n",
       "    <tr style=\"text-align: right;\">\n",
       "      <th></th>\n",
       "      <th>mean_fit_time</th>\n",
       "      <th>std_fit_time</th>\n",
       "      <th>mean_score_time</th>\n",
       "      <th>std_score_time</th>\n",
       "      <th>param_C</th>\n",
       "      <th>param_penalty</th>\n",
       "      <th>params</th>\n",
       "      <th>split0_test_score</th>\n",
       "      <th>split1_test_score</th>\n",
       "      <th>split2_test_score</th>\n",
       "      <th>split3_test_score</th>\n",
       "      <th>split4_test_score</th>\n",
       "      <th>split5_test_score</th>\n",
       "      <th>split6_test_score</th>\n",
       "      <th>split7_test_score</th>\n",
       "      <th>split8_test_score</th>\n",
       "      <th>split9_test_score</th>\n",
       "      <th>mean_test_score</th>\n",
       "      <th>std_test_score</th>\n",
       "      <th>rank_test_score</th>\n",
       "    </tr>\n",
       "  </thead>\n",
       "  <tbody>\n",
       "    <tr>\n",
       "      <th>0</th>\n",
       "      <td>0.001695</td>\n",
       "      <td>0.000458</td>\n",
       "      <td>0.000698</td>\n",
       "      <td>0.000457</td>\n",
       "      <td>1e-05</td>\n",
       "      <td>l1</td>\n",
       "      <td>{'C': 1e-05, 'penalty': 'l1'}</td>\n",
       "      <td>0.597222</td>\n",
       "      <td>0.597222</td>\n",
       "      <td>0.597222</td>\n",
       "      <td>0.597222</td>\n",
       "      <td>0.591549</td>\n",
       "      <td>0.591549</td>\n",
       "      <td>0.591549</td>\n",
       "      <td>0.591549</td>\n",
       "      <td>0.591549</td>\n",
       "      <td>0.591549</td>\n",
       "      <td>0.593838</td>\n",
       "      <td>0.002783</td>\n",
       "      <td>14</td>\n",
       "    </tr>\n",
       "    <tr>\n",
       "      <th>1</th>\n",
       "      <td>0.001697</td>\n",
       "      <td>0.000458</td>\n",
       "      <td>0.000397</td>\n",
       "      <td>0.000486</td>\n",
       "      <td>1e-05</td>\n",
       "      <td>l2</td>\n",
       "      <td>{'C': 1e-05, 'penalty': 'l2'}</td>\n",
       "      <td>0.597222</td>\n",
       "      <td>0.597222</td>\n",
       "      <td>0.597222</td>\n",
       "      <td>0.597222</td>\n",
       "      <td>0.591549</td>\n",
       "      <td>0.591549</td>\n",
       "      <td>0.591549</td>\n",
       "      <td>0.591549</td>\n",
       "      <td>0.591549</td>\n",
       "      <td>0.591549</td>\n",
       "      <td>0.593838</td>\n",
       "      <td>0.002783</td>\n",
       "      <td>14</td>\n",
       "    </tr>\n",
       "    <tr>\n",
       "      <th>2</th>\n",
       "      <td>0.001297</td>\n",
       "      <td>0.000457</td>\n",
       "      <td>0.000200</td>\n",
       "      <td>0.000399</td>\n",
       "      <td>0.0001</td>\n",
       "      <td>l1</td>\n",
       "      <td>{'C': 0.0001, 'penalty': 'l1'}</td>\n",
       "      <td>0.597222</td>\n",
       "      <td>0.597222</td>\n",
       "      <td>0.597222</td>\n",
       "      <td>0.597222</td>\n",
       "      <td>0.591549</td>\n",
       "      <td>0.591549</td>\n",
       "      <td>0.591549</td>\n",
       "      <td>0.591549</td>\n",
       "      <td>0.591549</td>\n",
       "      <td>0.591549</td>\n",
       "      <td>0.593838</td>\n",
       "      <td>0.002783</td>\n",
       "      <td>14</td>\n",
       "    </tr>\n",
       "    <tr>\n",
       "      <th>3</th>\n",
       "      <td>0.000997</td>\n",
       "      <td>0.000773</td>\n",
       "      <td>0.001005</td>\n",
       "      <td>0.001733</td>\n",
       "      <td>0.0001</td>\n",
       "      <td>l2</td>\n",
       "      <td>{'C': 0.0001, 'penalty': 'l2'}</td>\n",
       "      <td>0.597222</td>\n",
       "      <td>0.597222</td>\n",
       "      <td>0.597222</td>\n",
       "      <td>0.597222</td>\n",
       "      <td>0.591549</td>\n",
       "      <td>0.591549</td>\n",
       "      <td>0.591549</td>\n",
       "      <td>0.591549</td>\n",
       "      <td>0.591549</td>\n",
       "      <td>0.591549</td>\n",
       "      <td>0.593838</td>\n",
       "      <td>0.002783</td>\n",
       "      <td>14</td>\n",
       "    </tr>\n",
       "    <tr>\n",
       "      <th>4</th>\n",
       "      <td>0.000000</td>\n",
       "      <td>0.000000</td>\n",
       "      <td>0.001563</td>\n",
       "      <td>0.004688</td>\n",
       "      <td>0.001</td>\n",
       "      <td>l1</td>\n",
       "      <td>{'C': 0.001, 'penalty': 'l1'}</td>\n",
       "      <td>0.597222</td>\n",
       "      <td>0.597222</td>\n",
       "      <td>0.597222</td>\n",
       "      <td>0.597222</td>\n",
       "      <td>0.591549</td>\n",
       "      <td>0.591549</td>\n",
       "      <td>0.591549</td>\n",
       "      <td>0.591549</td>\n",
       "      <td>0.591549</td>\n",
       "      <td>0.591549</td>\n",
       "      <td>0.593838</td>\n",
       "      <td>0.002783</td>\n",
       "      <td>14</td>\n",
       "    </tr>\n",
       "  </tbody>\n",
       "</table>\n",
       "</div>"
      ],
      "text/plain": [
       "   mean_fit_time  std_fit_time  mean_score_time  std_score_time param_C  \\\n",
       "0       0.001695      0.000458         0.000698        0.000457   1e-05   \n",
       "1       0.001697      0.000458         0.000397        0.000486   1e-05   \n",
       "2       0.001297      0.000457         0.000200        0.000399  0.0001   \n",
       "3       0.000997      0.000773         0.001005        0.001733  0.0001   \n",
       "4       0.000000      0.000000         0.001563        0.004688   0.001   \n",
       "\n",
       "  param_penalty                          params  split0_test_score  \\\n",
       "0            l1   {'C': 1e-05, 'penalty': 'l1'}           0.597222   \n",
       "1            l2   {'C': 1e-05, 'penalty': 'l2'}           0.597222   \n",
       "2            l1  {'C': 0.0001, 'penalty': 'l1'}           0.597222   \n",
       "3            l2  {'C': 0.0001, 'penalty': 'l2'}           0.597222   \n",
       "4            l1   {'C': 0.001, 'penalty': 'l1'}           0.597222   \n",
       "\n",
       "   split1_test_score  split2_test_score  split3_test_score  split4_test_score  \\\n",
       "0           0.597222           0.597222           0.597222           0.591549   \n",
       "1           0.597222           0.597222           0.597222           0.591549   \n",
       "2           0.597222           0.597222           0.597222           0.591549   \n",
       "3           0.597222           0.597222           0.597222           0.591549   \n",
       "4           0.597222           0.597222           0.597222           0.591549   \n",
       "\n",
       "   split5_test_score  split6_test_score  split7_test_score  split8_test_score  \\\n",
       "0           0.591549           0.591549           0.591549           0.591549   \n",
       "1           0.591549           0.591549           0.591549           0.591549   \n",
       "2           0.591549           0.591549           0.591549           0.591549   \n",
       "3           0.591549           0.591549           0.591549           0.591549   \n",
       "4           0.591549           0.591549           0.591549           0.591549   \n",
       "\n",
       "   split9_test_score  mean_test_score  std_test_score  rank_test_score  \n",
       "0           0.591549         0.593838        0.002783               14  \n",
       "1           0.591549         0.593838        0.002783               14  \n",
       "2           0.591549         0.593838        0.002783               14  \n",
       "3           0.591549         0.593838        0.002783               14  \n",
       "4           0.591549         0.593838        0.002783               14  "
      ]
     },
     "execution_count": 71,
     "metadata": {},
     "output_type": "execute_result"
    }
   ],
   "source": [
    "sonuçlar = grid_cv.cv_results_\n",
    "df = pd.DataFrame(sonuçlar)\n",
    "df.head()"
   ]
  },
  {
   "cell_type": "code",
   "execution_count": 72,
   "metadata": {},
   "outputs": [
    {
     "data": {
      "text/html": [
       "<div>\n",
       "<style scoped>\n",
       "    .dataframe tbody tr th:only-of-type {\n",
       "        vertical-align: middle;\n",
       "    }\n",
       "\n",
       "    .dataframe tbody tr th {\n",
       "        vertical-align: top;\n",
       "    }\n",
       "\n",
       "    .dataframe thead th {\n",
       "        text-align: right;\n",
       "    }\n",
       "</style>\n",
       "<table border=\"1\" class=\"dataframe\">\n",
       "  <thead>\n",
       "    <tr style=\"text-align: right;\">\n",
       "      <th></th>\n",
       "      <th>param_penalty</th>\n",
       "      <th>param_C</th>\n",
       "      <th>mean_test_score</th>\n",
       "    </tr>\n",
       "  </thead>\n",
       "  <tbody>\n",
       "    <tr>\n",
       "      <th>19</th>\n",
       "      <td>l2</td>\n",
       "      <td>10000</td>\n",
       "      <td>0.799720</td>\n",
       "    </tr>\n",
       "    <tr>\n",
       "      <th>18</th>\n",
       "      <td>l1</td>\n",
       "      <td>10000</td>\n",
       "      <td>0.799720</td>\n",
       "    </tr>\n",
       "    <tr>\n",
       "      <th>17</th>\n",
       "      <td>l2</td>\n",
       "      <td>1000</td>\n",
       "      <td>0.799720</td>\n",
       "    </tr>\n",
       "    <tr>\n",
       "      <th>16</th>\n",
       "      <td>l1</td>\n",
       "      <td>1000</td>\n",
       "      <td>0.799720</td>\n",
       "    </tr>\n",
       "    <tr>\n",
       "      <th>15</th>\n",
       "      <td>l2</td>\n",
       "      <td>100</td>\n",
       "      <td>0.799720</td>\n",
       "    </tr>\n",
       "    <tr>\n",
       "      <th>14</th>\n",
       "      <td>l1</td>\n",
       "      <td>100</td>\n",
       "      <td>0.799720</td>\n",
       "    </tr>\n",
       "    <tr>\n",
       "      <th>12</th>\n",
       "      <td>l1</td>\n",
       "      <td>10</td>\n",
       "      <td>0.798319</td>\n",
       "    </tr>\n",
       "    <tr>\n",
       "      <th>13</th>\n",
       "      <td>l2</td>\n",
       "      <td>10</td>\n",
       "      <td>0.798319</td>\n",
       "    </tr>\n",
       "    <tr>\n",
       "      <th>10</th>\n",
       "      <td>l1</td>\n",
       "      <td>1</td>\n",
       "      <td>0.795518</td>\n",
       "    </tr>\n",
       "    <tr>\n",
       "      <th>9</th>\n",
       "      <td>l2</td>\n",
       "      <td>0.1</td>\n",
       "      <td>0.787115</td>\n",
       "    </tr>\n",
       "    <tr>\n",
       "      <th>11</th>\n",
       "      <td>l2</td>\n",
       "      <td>1</td>\n",
       "      <td>0.787115</td>\n",
       "    </tr>\n",
       "    <tr>\n",
       "      <th>8</th>\n",
       "      <td>l1</td>\n",
       "      <td>0.1</td>\n",
       "      <td>0.780112</td>\n",
       "    </tr>\n",
       "    <tr>\n",
       "      <th>7</th>\n",
       "      <td>l2</td>\n",
       "      <td>0.01</td>\n",
       "      <td>0.738095</td>\n",
       "    </tr>\n",
       "    <tr>\n",
       "      <th>1</th>\n",
       "      <td>l2</td>\n",
       "      <td>1e-05</td>\n",
       "      <td>0.593838</td>\n",
       "    </tr>\n",
       "    <tr>\n",
       "      <th>6</th>\n",
       "      <td>l1</td>\n",
       "      <td>0.01</td>\n",
       "      <td>0.593838</td>\n",
       "    </tr>\n",
       "    <tr>\n",
       "      <th>4</th>\n",
       "      <td>l1</td>\n",
       "      <td>0.001</td>\n",
       "      <td>0.593838</td>\n",
       "    </tr>\n",
       "    <tr>\n",
       "      <th>3</th>\n",
       "      <td>l2</td>\n",
       "      <td>0.0001</td>\n",
       "      <td>0.593838</td>\n",
       "    </tr>\n",
       "    <tr>\n",
       "      <th>2</th>\n",
       "      <td>l1</td>\n",
       "      <td>0.0001</td>\n",
       "      <td>0.593838</td>\n",
       "    </tr>\n",
       "    <tr>\n",
       "      <th>0</th>\n",
       "      <td>l1</td>\n",
       "      <td>1e-05</td>\n",
       "      <td>0.593838</td>\n",
       "    </tr>\n",
       "    <tr>\n",
       "      <th>5</th>\n",
       "      <td>l2</td>\n",
       "      <td>0.001</td>\n",
       "      <td>0.592437</td>\n",
       "    </tr>\n",
       "  </tbody>\n",
       "</table>\n",
       "</div>"
      ],
      "text/plain": [
       "   param_penalty param_C  mean_test_score\n",
       "19            l2   10000         0.799720\n",
       "18            l1   10000         0.799720\n",
       "17            l2    1000         0.799720\n",
       "16            l1    1000         0.799720\n",
       "15            l2     100         0.799720\n",
       "14            l1     100         0.799720\n",
       "12            l1      10         0.798319\n",
       "13            l2      10         0.798319\n",
       "10            l1       1         0.795518\n",
       "9             l2     0.1         0.787115\n",
       "11            l2       1         0.787115\n",
       "8             l1     0.1         0.780112\n",
       "7             l2    0.01         0.738095\n",
       "1             l2   1e-05         0.593838\n",
       "6             l1    0.01         0.593838\n",
       "4             l1   0.001         0.593838\n",
       "3             l2  0.0001         0.593838\n",
       "2             l1  0.0001         0.593838\n",
       "0             l1   1e-05         0.593838\n",
       "5             l2   0.001         0.592437"
      ]
     },
     "execution_count": 72,
     "metadata": {},
     "output_type": "execute_result"
    }
   ],
   "source": [
    "df = df[['param_penalty','param_C', 'mean_test_score']]\n",
    "df = df.sort_values(by='mean_test_score', ascending = False)\n",
    "df"
   ]
  },
  {
   "cell_type": "code",
   "execution_count": 65,
   "metadata": {},
   "outputs": [
    {
     "data": {
      "text/plain": [
       "RandomizedSearchCV(cv=10, error_score='raise-deprecating',\n",
       "                   estimator=LogisticRegression(C=1.0, class_weight=None,\n",
       "                                                dual=False, fit_intercept=True,\n",
       "                                                intercept_scaling=1,\n",
       "                                                l1_ratio=None, max_iter=100,\n",
       "                                                multi_class='warn', n_jobs=None,\n",
       "                                                penalty='l2', random_state=None,\n",
       "                                                solver='warn', tol=0.0001,\n",
       "                                                verbose=0, warm_start=False),\n",
       "                   iid='warn', n_iter=10, n_jobs=None,\n",
       "                   param_distributions={'C': [1e-05, 0.0001, 0.001, 0.01, 0.1,\n",
       "                                              1, 10, 100, 1000, 10000],\n",
       "                                        'penalty': ['l1', 'l2']},\n",
       "                   pre_dispatch='2*n_jobs', random_state=111, refit=True,\n",
       "                   return_train_score=False, scoring='precision', verbose=0)"
      ]
     },
     "execution_count": 65,
     "metadata": {},
     "output_type": "execute_result"
    }
   ],
   "source": [
    "from sklearn.model_selection import RandomizedSearchCV\n",
    "logreg = LogisticRegression()\n",
    "rs_cv = RandomizedSearchCV(estimator=logreg,\n",
    "                           param_distributions = parametreler,\n",
    "                           cv = 10,\n",
    "                           n_iter = 10,\n",
    "                           random_state = 111,\n",
    "                           scoring = 'precision'\n",
    "                      )\n",
    "rs_cv.fit(X, y)"
   ]
  },
  {
   "cell_type": "code",
   "execution_count": 77,
   "metadata": {},
   "outputs": [
    {
     "data": {
      "image/png": "[encoded data removed]",
      "text/plain": [
       "<Figure size 648x432 with 1 Axes>"
      ]
     },
     "metadata": {},
     "output_type": "display_data"
    }
   ],
   "source": [
    "import seaborn as sns\n",
    "plt.style.use('fivethirtyeight')\n",
    "plt.figure(figsize=(9,6))\n",
    "sns.scatterplot(x = 'param_C', y = 'mean_test_score', hue = 'param_penalty', data = df[0:10], s=200)\n",
    "plt.xscale('symlog')\n",
    "plt.ylim((0.75,0.85))\n",
    "plt.show()"
   ]
  },
  {
   "cell_type": "code",
   "execution_count": 79,
   "metadata": {},
   "outputs": [],
   "source": [
    "\n",
    "parametreler = {\"C\": [10 ** x for x in range (-5, 5, 1)],\n",
    "                \"penalty\": ['l1', 'l2']\n",
    "                }"
   ]
  },
  {
   "cell_type": "code",
   "execution_count": 80,
   "metadata": {},
   "outputs": [
    {
     "data": {
      "text/plain": [
       "RandomizedSearchCV(cv=10, error_score='raise-deprecating',\n",
       "                   estimator=LogisticRegression(C=1.0, class_weight=None,\n",
       "                                                dual=False, fit_intercept=True,\n",
       "                                                intercept_scaling=1,\n",
       "                                                l1_ratio=None, max_iter=100,\n",
       "                                                multi_class='warn', n_jobs=None,\n",
       "                                                penalty='l2', random_state=None,\n",
       "                                                solver='warn', tol=0.0001,\n",
       "                                                verbose=0, warm_start=False),\n",
       "                   iid='warn', n_iter=10, n_jobs=None,\n",
       "                   param_distributions={'C': [1e-05, 0.0001, 0.001, 0.01, 0.1,\n",
       "                                              1, 10, 100, 1000, 10000],\n",
       "                                        'penalty': ['l1', 'l2']},\n",
       "                   pre_dispatch='2*n_jobs', random_state=111, refit=True,\n",
       "                   return_train_score=False, scoring='precision', verbose=0)"
      ]
     },
     "execution_count": 80,
     "metadata": {},
     "output_type": "execute_result"
    }
   ],
   "source": [
    "from sklearn.model_selection import RandomizedSearchCV\n",
    "rs_cv = RandomizedSearchCV(estimator=logreg,\n",
    "                           param_distributions = parametreler,\n",
    "                           cv = 10,\n",
    "                           n_iter = 10,\n",
    "                           random_state = 111,\n",
    "                           scoring = 'precision'\n",
    "                      )\n",
    "rs_cv.fit(X, y)"
   ]
  },
  {
   "cell_type": "code",
   "execution_count": 81,
   "metadata": {},
   "outputs": [
    {
     "name": "stdout",
     "output_type": "stream",
     "text": [
      "En iyi parametreler        :  {'penalty': 'l1', 'C': 100}\n",
      "Tüm hassasiyet değerleri   :  [0.         0.         0.77712452 0.7637159  0.77951184 0.77951184\n",
      " 0.         0.         0.77951184 0.        ]\n",
      "En iyi hassasiyet değeri   :  0.779511840621416\n"
     ]
    }
   ],
   "source": [
    "print(\"En iyi parametreler        : \", rs_cv.best_params_)\n",
    "print(\"Tüm hassasiyet değerleri   : \", rs_cv.cv_results_['mean_test_score'])\n",
    "print(\"En iyi hassasiyet değeri   : \", rs_cv.best_score_)"
   ]
  },
  {
   "cell_type": "code",
   "execution_count": 82,
   "metadata": {},
   "outputs": [],
   "source": [
    "sonuçlar_rs = rs_cv.cv_results_\n",
    "df_rs = pd.DataFrame(sonuçlar_rs)"
   ]
  },
  {
   "cell_type": "code",
   "execution_count": 83,
   "metadata": {},
   "outputs": [
    {
     "data": {
      "text/html": [
       "<div>\n",
       "<style scoped>\n",
       "    .dataframe tbody tr th:only-of-type {\n",
       "        vertical-align: middle;\n",
       "    }\n",
       "\n",
       "    .dataframe tbody tr th {\n",
       "        vertical-align: top;\n",
       "    }\n",
       "\n",
       "    .dataframe thead th {\n",
       "        text-align: right;\n",
       "    }\n",
       "</style>\n",
       "<table border=\"1\" class=\"dataframe\">\n",
       "  <thead>\n",
       "    <tr style=\"text-align: right;\">\n",
       "      <th></th>\n",
       "      <th>param_penalty</th>\n",
       "      <th>param_C</th>\n",
       "      <th>mean_test_score</th>\n",
       "    </tr>\n",
       "  </thead>\n",
       "  <tbody>\n",
       "    <tr>\n",
       "      <th>4</th>\n",
       "      <td>l1</td>\n",
       "      <td>100</td>\n",
       "      <td>0.779512</td>\n",
       "    </tr>\n",
       "    <tr>\n",
       "      <th>5</th>\n",
       "      <td>l2</td>\n",
       "      <td>1000</td>\n",
       "      <td>0.779512</td>\n",
       "    </tr>\n",
       "    <tr>\n",
       "      <th>8</th>\n",
       "      <td>l1</td>\n",
       "      <td>1000</td>\n",
       "      <td>0.779512</td>\n",
       "    </tr>\n",
       "    <tr>\n",
       "      <th>2</th>\n",
       "      <td>l2</td>\n",
       "      <td>10</td>\n",
       "      <td>0.777125</td>\n",
       "    </tr>\n",
       "    <tr>\n",
       "      <th>3</th>\n",
       "      <td>l2</td>\n",
       "      <td>1</td>\n",
       "      <td>0.763716</td>\n",
       "    </tr>\n",
       "    <tr>\n",
       "      <th>0</th>\n",
       "      <td>l2</td>\n",
       "      <td>0.0001</td>\n",
       "      <td>0.000000</td>\n",
       "    </tr>\n",
       "    <tr>\n",
       "      <th>1</th>\n",
       "      <td>l2</td>\n",
       "      <td>0.001</td>\n",
       "      <td>0.000000</td>\n",
       "    </tr>\n",
       "    <tr>\n",
       "      <th>6</th>\n",
       "      <td>l1</td>\n",
       "      <td>0.01</td>\n",
       "      <td>0.000000</td>\n",
       "    </tr>\n",
       "    <tr>\n",
       "      <th>7</th>\n",
       "      <td>l1</td>\n",
       "      <td>0.001</td>\n",
       "      <td>0.000000</td>\n",
       "    </tr>\n",
       "    <tr>\n",
       "      <th>9</th>\n",
       "      <td>l1</td>\n",
       "      <td>1e-05</td>\n",
       "      <td>0.000000</td>\n",
       "    </tr>\n",
       "  </tbody>\n",
       "</table>\n",
       "</div>"
      ],
      "text/plain": [
       "  param_penalty param_C  mean_test_score\n",
       "4            l1     100         0.779512\n",
       "5            l2    1000         0.779512\n",
       "8            l1    1000         0.779512\n",
       "2            l2      10         0.777125\n",
       "3            l2       1         0.763716\n",
       "0            l2  0.0001         0.000000\n",
       "1            l2   0.001         0.000000\n",
       "6            l1    0.01         0.000000\n",
       "7            l1   0.001         0.000000\n",
       "9            l1   1e-05         0.000000"
      ]
     },
     "execution_count": 83,
     "metadata": {},
     "output_type": "execute_result"
    }
   ],
   "source": [
    "sonuçlar_rs = rs_cv.cv_results_\n",
    "df_rs = pd.DataFrame(sonuçlar_rs)\n",
    "df_rs = df_rs[['param_penalty','param_C', 'mean_test_score']]\n",
    "df_rs = df_rs.sort_values(by='mean_test_score', ascending = False)\n",
    "df_rs"
   ]
  },
  {
   "cell_type": "code",
   "execution_count": 85,
   "metadata": {},
   "outputs": [
    {
     "data": {
      "image/png": "[encoded data removed]",
      "text/plain": [
       "<Figure size 648x432 with 1 Axes>"
      ]
     },
     "metadata": {},
     "output_type": "display_data"
    }
   ],
   "source": [
    "plt.style.use('fivethirtyeight')\n",
    "plt.figure(figsize=(9,6))\n",
    "sns.scatterplot(x = 'param_C', y = 'mean_test_score', hue = 'param_penalty', data = df_rs, s=200)\n",
    "plt.xscale('symlog')\n",
    "plt.ylim((0.7,1))\n",
    "plt.show()"
   ]
  },
  {
   "cell_type": "code",
   "execution_count": null,
   "metadata": {},
   "outputs": [],
   "source": []
  }
 ],
 "metadata": {
  "kernelspec": {
   "display_name": "Python 3",
   "language": "python",
   "name": "python3"
  },
  "language_info": {
   "codemirror_mode": {
    "name": "ipython",
    "version": 3
   },
   "file_extension": ".py",
   "mimetype": "text/x-python",
   "name": "python",
   "nbconvert_exporter": "python",
   "pygments_lexer": "ipython3",
   "version": "3.7.1"
  }
 },
 "nbformat": 4,
 "nbformat_minor": 2
}
