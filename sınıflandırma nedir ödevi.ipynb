{
 "cells": [
  {
   "cell_type": "markdown",
   "metadata": {},
   "source": [
    "* Evin büyüklüğü veri alındığında, evin fiyatını tahmin etmek-----------sınıflandırma veya regresyon\n",
    "* Eve bakmaya gelenlerin kıyafetlerinden, kimin evi satın alma ihtimalinin yüksek veya düşük olduğu sonucuna varmak---sınıflandırma\n",
    "* Lokasyon ve tarih gibi parametreleri kullanarak, yağmur yağma ihtimalini hesaplamak--------------sınıflandırma\n",
    "* Eğitim, tecrübe gibi parametreleri kullanarak, kişinin maaşını tahmin etmek-----------sınıflandırma\n",
    "* Bir insanın yaşının tahmin edilmesi-------------sınıflandırma\n",
    "* Bir insanın gelirinin tahmin edilmesi-------------------regresyon veya sınıflandırma\n",
    "* Herhangi bir hisse senedinin fiyatının yönünün tahmin edilmesi-----------regresyon"
   ]
  },
  {
   "cell_type": "code",
   "execution_count": null,
   "metadata": {},
   "outputs": [],
   "source": []
  }
 ],
 "metadata": {
  "kernelspec": {
   "display_name": "Python 3",
   "language": "python",
   "name": "python3"
  },
  "language_info": {
   "codemirror_mode": {
    "name": "ipython",
    "version": 3
   },
   "file_extension": ".py",
   "mimetype": "text/x-python",
   "name": "python",
   "nbconvert_exporter": "python",
   "pygments_lexer": "ipython3",
   "version": "3.7.1"
  }
 },
 "nbformat": 4,
 "nbformat_minor": 2
}
